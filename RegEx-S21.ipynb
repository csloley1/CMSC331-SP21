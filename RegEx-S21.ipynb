{
 "cells": [
  {
   "cell_type": "markdown",
   "metadata": {},
   "source": [
    "# CMSC331 - Spring 2021\n",
    "\n",
    "## <font color='blue'>Regular Expressions in Python 3</font>\n",
    "\n",
    "### Instructor: Fereydoon Vafaei"
   ]
  },
  {
   "cell_type": "markdown",
   "metadata": {},
   "source": [
    "This notebook provides an introduction to RegEx in Python 3. RegEx is a good example of how **pattern matching** works. Pattern matching is used in lexical analyzers."
   ]
  },
  {
   "cell_type": "markdown",
   "metadata": {},
   "source": [
    "A regular expression (or RegEx or RE) is a special text string for describing a search pattern. One can think of regular expressions as wildcard notations such as \\*.txt to find all text files in a file manager. The regex equivalent is ^.*\\.txt$. But regular expressions' features and capabilities are much more.\n",
    "\n",
    "A **\"regex\"** is a special pattern or sequence of characters describing a certain search pattern. In other words, regex specifies a set of strings that matches it.\n",
    "\n",
    "A **\"match\"** is the piece of text, or sequence of bytes or characters that pattern was found to correspond to by the regex processing software. In other words, regex can be used to check if a string contains the specified search pattern.\n",
    "\n",
    "The first thing to recognize when using regular expressions is that everything is essentially a character, and we are writing patterns to match a specific sequence of characters (also known as a string). Most patterns use normal ASCII, which includes letters, digits, punctuation and other symbols on your keyboard like %#$@!, but unicode characters can also be used to match any type of international text."
   ]
  },
  {
   "cell_type": "markdown",
   "metadata": {},
   "source": [
    "Many applications and programming languages have their own implementation of regular expressions, often with slight and sometimes with significant differences from other implementations. When two applications use a different implementation of regular expressions, we say that they use different \"regular expression flavors\".\n",
    "\n",
    "In Python, you are familiar with strings and how to do operations on strings such as checking if two strings are equal using equality operator `==` or how to test wether a string is a substring of another using `in` or bulit-in methods such as `.find()` and `.index()`. Read the examples below."
   ]
  },
  {
   "cell_type": "code",
   "execution_count": 1,
   "metadata": {},
   "outputs": [
    {
     "data": {
      "text/plain": [
       "True"
      ]
     },
     "execution_count": 1,
     "metadata": {},
     "output_type": "execute_result"
    }
   ],
   "source": [
    "'foo' == 'foo'"
   ]
  },
  {
   "cell_type": "code",
   "execution_count": 2,
   "metadata": {},
   "outputs": [
    {
     "data": {
      "text/plain": [
       "False"
      ]
     },
     "execution_count": 2,
     "metadata": {},
     "output_type": "execute_result"
    }
   ],
   "source": [
    "'foo' == 'bar'"
   ]
  },
  {
   "cell_type": "code",
   "execution_count": 3,
   "metadata": {},
   "outputs": [
    {
     "data": {
      "text/plain": [
       "True"
      ]
     },
     "execution_count": 3,
     "metadata": {},
     "output_type": "execute_result"
    }
   ],
   "source": [
    "s = 'foo123bar'\n",
    "'123' in s"
   ]
  },
  {
   "cell_type": "code",
   "execution_count": 4,
   "metadata": {},
   "outputs": [
    {
     "data": {
      "text/plain": [
       "3"
      ]
     },
     "execution_count": 4,
     "metadata": {},
     "output_type": "execute_result"
    }
   ],
   "source": [
    "s = 'foo123bar'\n",
    "s.find('123')"
   ]
  },
  {
   "cell_type": "code",
   "execution_count": 5,
   "metadata": {},
   "outputs": [
    {
     "data": {
      "text/plain": [
       "3"
      ]
     },
     "execution_count": 5,
     "metadata": {},
     "output_type": "execute_result"
    }
   ],
   "source": [
    "s.index('123')"
   ]
  },
  {
   "cell_type": "code",
   "execution_count": 6,
   "metadata": {},
   "outputs": [
    {
     "data": {
      "text/plain": [
       "0"
      ]
     },
     "execution_count": 6,
     "metadata": {},
     "output_type": "execute_result"
    }
   ],
   "source": [
    "s.index('foo')"
   ]
  },
  {
   "cell_type": "markdown",
   "metadata": {},
   "source": [
    "> You can also concatenate strings using `+` operator."
   ]
  },
  {
   "cell_type": "code",
   "execution_count": 7,
   "metadata": {},
   "outputs": [
    {
     "data": {
      "text/plain": [
       "'foobar'"
      ]
     },
     "execution_count": 7,
     "metadata": {},
     "output_type": "execute_result"
    }
   ],
   "source": [
    "fb = 'foo' + 'bar'\n",
    "fb"
   ]
  },
  {
   "cell_type": "markdown",
   "metadata": {},
   "source": [
    "Python regex functions let you check if a particular string matches a given regex or if a given regex matches a particular string. First, you need to import `re`, the Python library of functions that let you define and work with regex to find matches."
   ]
  },
  {
   "cell_type": "code",
   "execution_count": 8,
   "metadata": {},
   "outputs": [],
   "source": [
    "# The Python library to work with regex\n",
    "import re"
   ]
  },
  {
   "cell_type": "markdown",
   "metadata": {},
   "source": [
    "> When you import the `re` module, you can start using regular expressions and the associated functions."
   ]
  },
  {
   "cell_type": "markdown",
   "metadata": {},
   "source": [
    "### `re.match()` vs `re.search()`"
   ]
  },
  {
   "cell_type": "markdown",
   "metadata": {},
   "source": [
    "Python `re` module offers two different primitive operations based on regular expressions: `re.match()` checks for a match only at the beginning of the string, while `re.search()` checks for the first location of a match **anywhere** in the string. The output of these two methods is a `Match object`. Notice that the `span` in the output `Match object` specifies the position of the match."
   ]
  },
  {
   "cell_type": "code",
   "execution_count": 9,
   "metadata": {},
   "outputs": [
    {
     "data": {
      "text/plain": [
       "<re.Match object; span=(0, 1), match='a'>"
      ]
     },
     "execution_count": 9,
     "metadata": {},
     "output_type": "execute_result"
    }
   ],
   "source": [
    "re.match(\"a\", \"abcdef\")    # Match"
   ]
  },
  {
   "cell_type": "code",
   "execution_count": 10,
   "metadata": {},
   "outputs": [],
   "source": [
    "re.match(\"c\", \"abcdef\")    # No match"
   ]
  },
  {
   "cell_type": "code",
   "execution_count": 11,
   "metadata": {},
   "outputs": [
    {
     "data": {
      "text/plain": [
       "<re.Match object; span=(2, 3), match='c'>"
      ]
     },
     "execution_count": 11,
     "metadata": {},
     "output_type": "execute_result"
    }
   ],
   "source": [
    "re.search(\"c\", \"abcdef\")   # Match"
   ]
  },
  {
   "cell_type": "code",
   "execution_count": 12,
   "metadata": {},
   "outputs": [
    {
     "data": {
      "text/plain": [
       "<re.Match object; span=(1, 3), match='bc'>"
      ]
     },
     "execution_count": 12,
     "metadata": {},
     "output_type": "execute_result"
    }
   ],
   "source": [
    "re.search(\"bc\", \"abcdef\")   # Match"
   ]
  },
  {
   "cell_type": "code",
   "execution_count": 13,
   "metadata": {},
   "outputs": [
    {
     "data": {
      "text/plain": [
       "<re.Match object; span=(3, 6), match='123'>"
      ]
     },
     "execution_count": 13,
     "metadata": {},
     "output_type": "execute_result"
    }
   ],
   "source": [
    "s = 'foo123bar'\n",
    "re.search('123', s)"
   ]
  },
  {
   "cell_type": "markdown",
   "metadata": {},
   "source": [
    "> A match object is **truthy**, so you can use it in a Boolean context like a conditional statement:"
   ]
  },
  {
   "cell_type": "code",
   "execution_count": 9,
   "metadata": {},
   "outputs": [
    {
     "name": "stdout",
     "output_type": "stream",
     "text": [
      "No match.\n"
     ]
    }
   ],
   "source": [
    "s = 'foobar'\n",
    "if re.search('123', s):\n",
    "    print('Found a match.')\n",
    "else:\n",
    "    print('No match.')"
   ]
  },
  {
   "cell_type": "code",
   "execution_count": 10,
   "metadata": {},
   "outputs": [
    {
     "name": "stdout",
     "output_type": "stream",
     "text": [
      "Found a match.\n"
     ]
    }
   ],
   "source": [
    "s = 'foo123bar'\n",
    "if re.search('123', s):\n",
    "    print('Found a match.')\n",
    "else:\n",
    "    print('No match.')"
   ]
  },
  {
   "cell_type": "markdown",
   "metadata": {},
   "source": [
    "### Defining RegEx Patterns"
   ]
  },
  {
   "cell_type": "markdown",
   "metadata": {},
   "source": [
    "As an example, the following code defines a RegEx pattern. The pattern in this example is specified as any five letter string starting with `a` and ending with `s`. \n",
    "\n",
    "Here, we use `re.match()` function to search pattern within the `test_string`. The method returns a match object if the search is successful. If not, it returns `None`.\n",
    "\n",
    "To specify regular expressions, **metacharacters** are used. In the following example, `^` and `'$'` are **metacharacters** refering to the beginning and the end of string respectively. The dot `.` metacharacter matches any character except a newline, so it functions like a wildcard. Thus, the pattern specifies that there are three characters between `a` and `s`."
   ]
  },
  {
   "cell_type": "code",
   "execution_count": 15,
   "metadata": {},
   "outputs": [
    {
     "name": "stdout",
     "output_type": "stream",
     "text": [
      "Search successful.\n"
     ]
    }
   ],
   "source": [
    "pattern = '^a...s$'\n",
    "test_string = 'abyss'\n",
    "result = re.match(pattern, test_string)\n",
    "\n",
    "if result:\n",
    "  print(\"Search successful.\")\n",
    "else:\n",
    "  print(\"Search unsuccessful.\")\t"
   ]
  },
  {
   "cell_type": "markdown",
   "metadata": {},
   "source": [
    "Regular expressions beginning with **metacharachter** `'^'` can be used with `search()` to restrict the match at the beginning of the string:"
   ]
  },
  {
   "cell_type": "code",
   "execution_count": 16,
   "metadata": {},
   "outputs": [
    {
     "data": {
      "text/plain": [
       "<re.Match object; span=(2, 3), match='c'>"
      ]
     },
     "execution_count": 16,
     "metadata": {},
     "output_type": "execute_result"
    }
   ],
   "source": [
    "re.search(\"c\", \"abcdef\")  # Match"
   ]
  },
  {
   "cell_type": "code",
   "execution_count": 17,
   "metadata": {},
   "outputs": [],
   "source": [
    "# Now restrict .search() with '^' to check only the beginning of the given string\n",
    "re.search(\"^c\", \"abcdef\")  # No match"
   ]
  },
  {
   "cell_type": "code",
   "execution_count": 18,
   "metadata": {},
   "outputs": [
    {
     "data": {
      "text/plain": [
       "<re.Match object; span=(0, 1), match='a'>"
      ]
     },
     "execution_count": 18,
     "metadata": {},
     "output_type": "execute_result"
    }
   ],
   "source": [
    "re.search(\"^a\", \"abcdef\")  # Match"
   ]
  },
  {
   "cell_type": "markdown",
   "metadata": {},
   "source": [
    "> Note however that in MULTILINE mode, `match()` only matches at the beginning of the string, whereas using `search()` with a regular expression beginning with `'^'` will match at the beginning of each line."
   ]
  },
  {
   "cell_type": "code",
   "execution_count": 19,
   "metadata": {},
   "outputs": [],
   "source": [
    "re.match('X', 'A\\nB\\nX', re.MULTILINE)  # No match"
   ]
  },
  {
   "cell_type": "code",
   "execution_count": 20,
   "metadata": {},
   "outputs": [
    {
     "data": {
      "text/plain": [
       "<re.Match object; span=(4, 5), match='X'>"
      ]
     },
     "execution_count": 20,
     "metadata": {},
     "output_type": "execute_result"
    }
   ],
   "source": [
    "re.search('^X', 'A\\nB\\nX', re.MULTILINE)  # Match"
   ]
  },
  {
   "cell_type": "markdown",
   "metadata": {},
   "source": [
    "In the following example, `re.search()` searches the string to see if it starts with \"The\" and ends with \"Spain\". The star symbol `*` matches zero or more occurrences of the pattern left to it, which in this case is `.` i.e. a wildcard."
   ]
  },
  {
   "cell_type": "code",
   "execution_count": 21,
   "metadata": {},
   "outputs": [
    {
     "name": "stdout",
     "output_type": "stream",
     "text": [
      "YES! We have a match!\n"
     ]
    }
   ],
   "source": [
    "txt = \"The rain in Spain\"\n",
    "x = re.search(\"^The.*Spain$\", txt) \n",
    "\n",
    "if (x):\n",
    "  print(\"YES! We have a match!\")\n",
    "else:\n",
    "  print(\"No match\")"
   ]
  },
  {
   "cell_type": "code",
   "execution_count": 11,
   "metadata": {},
   "outputs": [
    {
     "name": "stdout",
     "output_type": "stream",
     "text": [
      "No match\n"
     ]
    }
   ],
   "source": [
    "txt = \"The rain in Paris\"\n",
    "x = re.search(\"^The.*Spain$\", txt) \n",
    "\n",
    "if (x):\n",
    "  print(\"YES! We have a match!\")\n",
    "else:\n",
    "  print(\"No match\")"
   ]
  },
  {
   "cell_type": "markdown",
   "metadata": {},
   "source": [
    "### `re` Functions"
   ]
  },
  {
   "cell_type": "markdown",
   "metadata": {},
   "source": [
    "The `re` module offers a set of functions that allows us to search a string for a match. The following table includes some of the functions most commonly used in working with regex in Python."
   ]
  },
  {
   "cell_type": "markdown",
   "metadata": {},
   "source": [
    "| Function |                            Description                            |                     Syntax                     |\n",
    "|:--------:|:-----------------------------------------------------------------:|:----------------------------------------------:|\n",
    "|  findall |               Returns a list containing all matches               |      re.findall(pattern, string, flags=0)      |\n",
    "|  search  | Returns a Match object if there is a match anywhere in the string |       re.search(pattern, string, flags=0)      |\n",
    "|   match  |       Checks for a match only at the beginning of the string      |       re.match(pattern, string, flags=0)       |\n",
    "|   split  |    Returns a list where the string has been split at each match   | re.split(pattern, string, maxsplit=0, flags=0) |\n",
    "|    sub   |             Replaces one or many matches with a string            |      re.sub(pattern, repl, string, max=0)      |"
   ]
  },
  {
   "cell_type": "markdown",
   "metadata": {},
   "source": [
    "> **Note:** By uisng `sub()` function and replacing the pattern with empty string `''`, you can eliminate certain pattern from input strings. For instance, you can eliminate all whitespaces by finding the matches with `'\\s+'` and replacing them with empty string. The following code shows some examples (also see Exrecise-2):"
   ]
  },
  {
   "cell_type": "code",
   "execution_count": 58,
   "metadata": {},
   "outputs": [
    {
     "name": "stdout",
     "output_type": "stream",
     "text": [
      " defghi\n",
      " defdefghi\n",
      "abcdefghi\n",
      " def\n"
     ]
    }
   ],
   "source": [
    "# Some examples of using sub() method:\n",
    "\n",
    "text = ' abcdefghi'\n",
    "\n",
    "result1 = re.sub('abc',  '',    text)        # Delete pattern abc\n",
    "result2 = re.sub('abc',  'def', text)        # Replace pattern abc -> def\n",
    "result3 = re.sub(r'\\s+', '',   text)         #Eliminate whitespaces, prefix r makes the following a raw string\n",
    "result4 = re.sub('abc(def)ghi', r'\\1', text) # Replace a string with a part of itself\n",
    "\n",
    "print(result1)\n",
    "print(result2)\n",
    "print(result3)\n",
    "print(result4)"
   ]
  },
  {
   "cell_type": "markdown",
   "metadata": {},
   "source": [
    "### Python RegEx Metacharachters"
   ]
  },
  {
   "cell_type": "markdown",
   "metadata": {},
   "source": [
    "Metacharacters are characters with a special meaning. The real power of regex matching in Python emerges when regex contains special characters called **metacharacters**. These have a unique meaning to the regex matching engine and vastly enhance the capability of the search.\n",
    "\n",
    "The full list of metacharachters used in `re` and how to use them can be found in [Python documentation](https://docs.python.org/3.7/howto/regex.html)."
   ]
  },
  {
   "cell_type": "markdown",
   "metadata": {},
   "source": [
    "### Metacharachters  `[]`  `^` `$` `.` `*` `+` `?` `{}` `|` `()` `\\`"
   ]
  },
  {
   "cell_type": "markdown",
   "metadata": {},
   "source": [
    "In this notebook, we're going to see the functionality of a few of the metacharachters."
   ]
  },
  {
   "cell_type": "markdown",
   "metadata": {},
   "source": [
    "Square brackets metacharachter `[]` specifies a set of characters you wish to match."
   ]
  },
  {
   "cell_type": "code",
   "execution_count": 22,
   "metadata": {},
   "outputs": [
    {
     "data": {
      "text/plain": [
       "<re.Match object; span=(3, 4), match='a'>"
      ]
     },
     "execution_count": 22,
     "metadata": {},
     "output_type": "execute_result"
    }
   ],
   "source": [
    "s = '123abc'\n",
    "re.search('[abc]', s) # search whether any of a, b, or c is in s - Match 'a'"
   ]
  },
  {
   "cell_type": "markdown",
   "metadata": {},
   "source": [
    "Consider the problem of how to determine whether a string contains any three consecutive decimal digit characters.\n",
    "\n",
    "In a regex, a set of characters specified in square brackets `[]` makes up a character class. This metacharacter sequence matches any single character that is in the class, as demonstrated in the following example:"
   ]
  },
  {
   "cell_type": "code",
   "execution_count": 23,
   "metadata": {},
   "outputs": [
    {
     "data": {
      "text/plain": [
       "<re.Match object; span=(3, 6), match='123'>"
      ]
     },
     "execution_count": 23,
     "metadata": {},
     "output_type": "execute_result"
    }
   ],
   "source": [
    "s = 'foo123bar'\n",
    "re.search('[0-9][0-9][0-9]', s)"
   ]
  },
  {
   "cell_type": "markdown",
   "metadata": {},
   "source": [
    "`[0-9]` matches any single decimal digit character — any character between `'0'` and `'9'`, inclusive. The full expression `[0-9][0-9][0-9]` matches any sequence of three decimal digit characters. In this case, `s` matches because it contains three consecutive decimal digit characters, `'123'`.\n",
    "\n",
    "These strings also match:"
   ]
  },
  {
   "cell_type": "code",
   "execution_count": 24,
   "metadata": {},
   "outputs": [
    {
     "data": {
      "text/plain": [
       "<re.Match object; span=(3, 6), match='456'>"
      ]
     },
     "execution_count": 24,
     "metadata": {},
     "output_type": "execute_result"
    }
   ],
   "source": [
    "re.search('[0-9][0-9][0-9]', 'foo456bar')"
   ]
  },
  {
   "cell_type": "code",
   "execution_count": 25,
   "metadata": {},
   "outputs": [
    {
     "data": {
      "text/plain": [
       "<re.Match object; span=(0, 3), match='234'>"
      ]
     },
     "execution_count": 25,
     "metadata": {},
     "output_type": "execute_result"
    }
   ],
   "source": [
    "re.search('[0-9][0-9][0-9]', '234baz')"
   ]
  },
  {
   "cell_type": "code",
   "execution_count": 26,
   "metadata": {},
   "outputs": [
    {
     "data": {
      "text/plain": [
       "<re.Match object; span=(3, 6), match='678'>"
      ]
     },
     "execution_count": 26,
     "metadata": {},
     "output_type": "execute_result"
    }
   ],
   "source": [
    "re.search('[0-9][0-9][0-9]', 'qux678')"
   ]
  },
  {
   "cell_type": "markdown",
   "metadata": {},
   "source": [
    "> **Note:**\n",
    "* `[a-e]` is the same as `[abcde]`\n",
    "* `[1-4]` is the same as `[1234]`\n",
    "* `[0-39]` is the same as `[01239]`"
   ]
  },
  {
   "cell_type": "markdown",
   "metadata": {},
   "source": [
    "You can complement (invert) the character set by using caret `^` symbol at the start of a square-bracket `[]`.\n",
    "\n",
    "* `[^abc]` means any character except a or b or c\n",
    "* `[^0-9]` means any non-digit character"
   ]
  },
  {
   "cell_type": "code",
   "execution_count": 46,
   "metadata": {},
   "outputs": [
    {
     "data": {
      "text/plain": [
       "<re.Match object; span=(5, 6), match='f'>"
      ]
     },
     "execution_count": 46,
     "metadata": {},
     "output_type": "execute_result"
    }
   ],
   "source": [
    "# Exrecise-1: Write a RegEx that matches with the first character in the string s that isn’t a digit\n",
    "s = '12345foo'\n",
    "re.search('[^0-9]', s)"
   ]
  },
  {
   "cell_type": "markdown",
   "metadata": {},
   "source": [
    "Take a look at another regex metacharacter. As mentioned above, the dot `.` metacharacter matches any character except a newline, so it functions like a wildcard:"
   ]
  },
  {
   "cell_type": "code",
   "execution_count": 27,
   "metadata": {},
   "outputs": [
    {
     "data": {
      "text/plain": [
       "<re.Match object; span=(3, 6), match='123'>"
      ]
     },
     "execution_count": 27,
     "metadata": {},
     "output_type": "execute_result"
    }
   ],
   "source": [
    "s = 'foo123bar'\n",
    "re.search('1.3', s)"
   ]
  },
  {
   "cell_type": "code",
   "execution_count": 23,
   "metadata": {},
   "outputs": [],
   "source": [
    "s = 'foo13bar'\n",
    "re.search('1.3', s)"
   ]
  },
  {
   "cell_type": "markdown",
   "metadata": {},
   "source": [
    "> In the first example, the regex `1.3` matches `'123'` because the `'1'` and `'3'` match literally, and the `.` matches the `'2'`. Here, you’re essentially asking, \"Does `s` contain a `'1'`, then any character (except a newline), then a `'3'`?\" The answer is yes for `'foo123bar'` but no for `'foo13bar'`."
   ]
  },
  {
   "cell_type": "markdown",
   "metadata": {},
   "source": [
    "- The caret symbol `^` - as you saw earlier in this notebook - is used to check if a string starts with a certain character.\n",
    "- The dollar symbol `$` is used to check if a string ends with a certain character.\n",
    "- The star symbol `*` matches zero or more occurrences of the pattern left to it.\n",
    "- The plus symbol `+` matches one or more occurrences of the pattern left to it.\n",
    "- The question mark symbol `?` matches zero or one occurrence of the pattern left to it.\n",
    "- Consider this code: `{n,m}`. This means at least `n`, and at most `m` repetitions of the pattern left to it.\n",
    "- Vertical bar `|` is used for alternation (or operator).\n",
    "- `()` - Group Parentheses `()` is used to group sub-patterns. For example, `(a|b|c)xz` matches any string that matches either a or b or c followed by xz.\n",
    "\n",
    "**Note: Escaping Metacharacters**\n",
    "\n",
    "- Occasionally, you may want to include a metacharacter in your regex, except you don't want it to carry its special meaning. Instead, you’ll want it to represent itself as a literal character.\n",
    "\n",
    "> backslash `\\` Removes the special meaning of a metacharacter.\n",
    "\n"
   ]
  },
  {
   "cell_type": "code",
   "execution_count": 11,
   "metadata": {},
   "outputs": [
    {
     "name": "stdout",
     "output_type": "stream",
     "text": [
      "<re.Match object; span=(2, 5), match='***'>\n"
     ]
    }
   ],
   "source": [
    "# Using * literally as * NOT as a metacharacter\n",
    "\n",
    "text = 'hi***there'\n",
    "print(re.search('\\*+', text))"
   ]
  },
  {
   "cell_type": "code",
   "execution_count": 29,
   "metadata": {},
   "outputs": [
    {
     "name": "stdout",
     "output_type": "stream",
     "text": [
      "mn  <re.Match object; span=(0, 2), match='mn'>\n",
      "man <re.Match object; span=(0, 3), match='man'>\n",
      "maaan  <re.Match object; span=(0, 5), match='maaan'>\n",
      "main  None\n",
      "woman  <re.Match object; span=(2, 5), match='man'>\n"
     ]
    }
   ],
   "source": [
    "# Using * as metacharacter\n",
    "\n",
    "print('mn ', re.search('ma*n', 'mn')) # match because * means zero or more occ. of the pattern left to it\n",
    "print('man', re.search('ma*n', 'man')) # match \n",
    "print('maaan ', re.search('ma*n', 'maaan')) # match\n",
    "print('main ', re.search('ma*n', 'main')) # no match because after * there should be nothing but n\n",
    "print('woman ', re.search('ma*n', 'woman')) # match because * means zero or more occ. of pattern left to it"
   ]
  },
  {
   "cell_type": "markdown",
   "metadata": {},
   "source": [
    "### `.group()`"
   ]
  },
  {
   "cell_type": "markdown",
   "metadata": {},
   "source": [
    "> The `.group()` method of the `match` object returns the part of the string where there is a match. See the following examples."
   ]
  },
  {
   "cell_type": "code",
   "execution_count": 13,
   "metadata": {},
   "outputs": [
    {
     "name": "stdout",
     "output_type": "stream",
     "text": [
      "<re.Match object; span=(2, 8), match='801 35'>\n",
      "801 35\n"
     ]
    }
   ],
   "source": [
    "# .group() example-1\n",
    "string = '39801 356, 2102 1111'\n",
    "\n",
    "# Three digit number followed by space followed by two digit number\n",
    "pattern = '(\\d{3}) (\\d{2})'\n",
    "\n",
    "# match variable contains a Match object\n",
    "match = re.search(pattern, string) \n",
    "\n",
    "print(match)\n",
    "\n",
    "if match:\n",
    "  print(match.group())\n",
    "else:\n",
    "  print(\"pattern not found\")\n"
   ]
  },
  {
   "cell_type": "markdown",
   "metadata": {},
   "source": [
    "> You can access certain elements in `.group()`"
   ]
  },
  {
   "cell_type": "code",
   "execution_count": 14,
   "metadata": {},
   "outputs": [
    {
     "data": {
      "text/plain": [
       "'801'"
      ]
     },
     "execution_count": 14,
     "metadata": {},
     "output_type": "execute_result"
    }
   ],
   "source": [
    "match.group(1)"
   ]
  },
  {
   "cell_type": "code",
   "execution_count": 15,
   "metadata": {},
   "outputs": [
    {
     "data": {
      "text/plain": [
       "'35'"
      ]
     },
     "execution_count": 15,
     "metadata": {},
     "output_type": "execute_result"
    }
   ],
   "source": [
    "match.group(2) "
   ]
  },
  {
   "cell_type": "code",
   "execution_count": 16,
   "metadata": {},
   "outputs": [
    {
     "data": {
      "text/plain": [
       "('801', '35')"
      ]
     },
     "execution_count": 16,
     "metadata": {},
     "output_type": "execute_result"
    }
   ],
   "source": [
    "match.group(1, 2)"
   ]
  },
  {
   "cell_type": "code",
   "execution_count": 17,
   "metadata": {},
   "outputs": [
    {
     "data": {
      "text/plain": [
       "('801', '35')"
      ]
     },
     "execution_count": 17,
     "metadata": {},
     "output_type": "execute_result"
    }
   ],
   "source": [
    "match.groups()"
   ]
  },
  {
   "cell_type": "code",
   "execution_count": 67,
   "metadata": {},
   "outputs": [
    {
     "data": {
      "text/plain": [
       "'def'"
      ]
     },
     "execution_count": 67,
     "metadata": {},
     "output_type": "execute_result"
    }
   ],
   "source": [
    "# .group() example-2\n",
    "match = re.search('(?<=abc)def', 'abcdef') #(?<=abc) excludes abc from the match!\n",
    "match.group()"
   ]
  },
  {
   "cell_type": "markdown",
   "metadata": {},
   "source": [
    "Notice that to find all matches in the string, you should use `.findall()` method."
   ]
  },
  {
   "cell_type": "code",
   "execution_count": 22,
   "metadata": {},
   "outputs": [
    {
     "name": "stdout",
     "output_type": "stream",
     "text": [
      "<class 'list'>\n",
      "[('801', '35'), ('102', '11')]\n",
      "('801', '35')\n",
      "('102', '11')\n"
     ]
    }
   ],
   "source": [
    "# .findall() example\n",
    "string = '39801 356, 2102 1111'\n",
    "\n",
    "# Three digit number followed by space followed by two digit number\n",
    "pattern = '(\\d{3}) (\\d{2})'\n",
    "\n",
    "# match variable contains a Match object\n",
    "match = re.findall(pattern, string) \n",
    "\n",
    "print(type(match))\n",
    "print(match)\n",
    "\n",
    "if match:\n",
    "    for it in range(len(match)):\n",
    "        print(match[it])\n",
    "else:\n",
    "  print(\"pattern not found\")"
   ]
  },
  {
   "cell_type": "markdown",
   "metadata": {},
   "source": [
    "### Special Sequences"
   ]
  },
  {
   "cell_type": "markdown",
   "metadata": {},
   "source": [
    "The following list of special sequences isn’t complete. For a complete list of sequences and expanded class definitions for Unicode string patterns, see the last part of [Regular Expression Syntax](https://docs.python.org/3/library/re.html#re-syntax) in the Standard Library reference. In general, the Unicode versions match any character that’s in the appropriate category in the Unicode database.\n",
    "\n",
    "`\\d`\n",
    "\n",
    "    Matches any decimal digit; this is equivalent to the class [0-9]\n",
    "`\\D`\n",
    "\n",
    "    Matches any non-digit character; this is equivalent to the class [^0-9]\n",
    "`\\s`\n",
    "\n",
    "    Matches any whitespace character; this is equivalent to the class [ \\t\\n\\r\\f\\v]\n",
    "`\\S`\n",
    "\n",
    "    Matches any non-whitespace character; this is equivalent to the class [^ \\t\\n\\r\\f\\v]\n",
    "`\\w`\n",
    "\n",
    "    Matches any alphanumeric character; this is equivalent to the class [a-zA-Z0-9_]\n",
    "`\\W`\n",
    "\n",
    "    Matches any non-alphanumeric character; this is equivalent to the class [^a-zA-Z0-9_]\n",
    "\n",
    "These sequences can be included inside a character class. For example, `[\\s,.]` is a character class that will match any whitespace character, or `','` or `'.'`"
   ]
  },
  {
   "cell_type": "markdown",
   "metadata": {},
   "source": [
    "### More Exercises"
   ]
  },
  {
   "cell_type": "code",
   "execution_count": 3,
   "metadata": {},
   "outputs": [
    {
     "name": "stdout",
     "output_type": "stream",
     "text": [
      "Phone Num :  2004-959-559 \n",
      "Phone Num :  2004959559\n"
     ]
    }
   ],
   "source": [
    "# Exrecise-2 \n",
    "\n",
    "phone = \"2004-959-559 # This is Phone Number\"\n",
    "\n",
    "# Delete Python-style comments\n",
    "num = re.sub('#.*$', \"\", phone)\n",
    "print (\"Phone Num : \", num)\n",
    "\n",
    "# Remove anything other than digits\n",
    "num = re.sub(r'\\D', \"\", phone)    # '\\D' Matches nondigits and is equivalent to '[^0-9]'\n",
    "print (\"Phone Num : \", num)"
   ]
  },
  {
   "cell_type": "code",
   "execution_count": 61,
   "metadata": {},
   "outputs": [
    {
     "name": "stdout",
     "output_type": "stream",
     "text": [
      "['12', '89', '34']\n"
     ]
    }
   ],
   "source": [
    "# Exrecise-3\n",
    "\n",
    "# Find all numbers and return them as a list\n",
    "string = 'hello 12 hi 89. Howdy 34'\n",
    "pattern = '\\d+'\n",
    "\n",
    "result = re.findall(pattern, string) \n",
    "print(result) # ['12', '89', '34']"
   ]
  },
  {
   "cell_type": "code",
   "execution_count": 74,
   "metadata": {},
   "outputs": [
    {
     "name": "stdout",
     "output_type": "stream",
     "text": [
      "['The', 'rain', 'in', 'Spain']\n"
     ]
    }
   ],
   "source": [
    "# Exrecise-4\n",
    "\n",
    "# Split at each white-space character\n",
    "txt = \"The rain in Spain\"\n",
    "x = re.split(\"\\s\", txt)\n",
    "print(x) # ['The', 'rain', 'in', 'Spain']"
   ]
  },
  {
   "cell_type": "code",
   "execution_count": 9,
   "metadata": {},
   "outputs": [
    {
     "name": "stdout",
     "output_type": "stream",
     "text": [
      "001 123 234 5678\n"
     ]
    }
   ],
   "source": [
    "# Exercise-5\n",
    "\n",
    "phone = \"001---123--234-5678\"\n",
    "\n",
    "# Replace one or more repetitions of - like --- with a single space \" \"\n",
    "num = re.sub(\"-+\", \" \", phone)\n",
    "print(num) # prints 001 123 234 5678"
   ]
  },
  {
   "cell_type": "code",
   "execution_count": 2,
   "metadata": {},
   "outputs": [
    {
     "name": "stdout",
     "output_type": "stream",
     "text": [
      "Found a match!\n",
      "Found a match!\n",
      "Found a match!\n",
      "Found a match!\n",
      "Not matched!\n",
      "<re.Match object; span=(0, 1), match='a'>\n",
      "<re.Match object; span=(0, 2), match='ab'>\n",
      "<re.Match object; span=(0, 3), match='abb'>\n",
      "<re.Match object; span=(0, 2), match='ab'>\n",
      "None\n"
     ]
    }
   ],
   "source": [
    "# Exercise-6\n",
    "# Write a RegEx that matches a string that has an 'a' followed by zero or more 'b'\n",
    "\n",
    "def text_match(text):\n",
    "        patterns = 'ab*?'\n",
    "        if re.search(patterns,  text):\n",
    "                return 'Found a match!'\n",
    "        else:\n",
    "                return('Not matched!')\n",
    "\n",
    "print(text_match(\"ac\"))\n",
    "print(text_match(\"abc\"))\n",
    "print(text_match(\"abbc\"))\n",
    "print(text_match(\"abab\"))\n",
    "print(text_match(\"bc\"))\n",
    "print(re.search('ab*', \"ac\"))\n",
    "print(re.search('ab*', \"abc\"))\n",
    "print(re.search('ab*', \"abbc\"))\n",
    "print(re.search('ab*', \"abab\"))\n",
    "print(re.search('ab*', \"bc\"))"
   ]
  },
  {
   "cell_type": "markdown",
   "metadata": {},
   "source": [
    "### References\n",
    "\n",
    "[1] https://docs.python.org/3.7/library/re.html\n",
    "\n",
    "[2] https://www.regular-expressions.info/tutorial.html\n",
    "\n",
    "[3] https://regexone.com/lesson/introduction_abcs\n",
    "\n",
    "[4] https://realpython.com/regex-python/\n",
    "\n",
    "[5] https://www.w3schools.com/python/python_regex.asp\n",
    "\n",
    "[6] https://www.programiz.com/python-programming/regex\n",
    "\n",
    "[7] https://lzone.de/examples/Python%20re.sub\n",
    "\n",
    "[8] https://docs.python.org/3/howto/regex.html"
   ]
  }
 ],
 "metadata": {
  "kernelspec": {
   "display_name": "Python 3",
   "language": "python",
   "name": "python3"
  },
  "language_info": {
   "codemirror_mode": {
    "name": "ipython",
    "version": 3
   },
   "file_extension": ".py",
   "mimetype": "text/x-python",
   "name": "python",
   "nbconvert_exporter": "python",
   "pygments_lexer": "ipython3",
   "version": "3.8.5"
  }
 },
 "nbformat": 4,
 "nbformat_minor": 2
}

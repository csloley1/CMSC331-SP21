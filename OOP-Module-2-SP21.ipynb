{
 "cells": [
  {
   "cell_type": "markdown",
   "metadata": {
    "slideshow": {
     "slide_type": "slide"
    }
   },
   "source": [
    "<center><h1>CMSC331 Principles of Programming Languages</h1></center>\n",
    "\n",
    "<center><h3 style=\"color:blue;\">Instructor: Fereydoon Vafaei</h3></center>\n",
    "\n",
    "\n",
    "<center><h5 style=\"color:purple;\">Object Oriented Programming in Python  Module-2</h5></center>\n",
    "\n",
    "<center><img src=\"img/UMBC_logo.png\" align=\"center\"/></center>"
   ]
  },
  {
   "cell_type": "markdown",
   "metadata": {
    "slideshow": {
     "slide_type": "slide"
    }
   },
   "source": [
    "<center><h1>Agenda</h1></center>\n",
    "\n",
    "- <b>Module 1:</b> OOP Basics - Introduction to Classes, Objects and Methods\n",
    "- <b>Module 2:</b> Inheritance"
   ]
  },
  {
   "cell_type": "markdown",
   "metadata": {
    "slideshow": {
     "slide_type": "subslide"
    }
   },
   "source": [
    "<center><h1>Learning Goals</h1></center>\n",
    "\n",
    "After each module students should be able to:\n",
    "- <b>Module 1:</b> \n",
    "    - define classes with attributes, constructor and methods as well as instantiate objects in Python environment.\n",
    "    - describe the difference between class atributes and instance attributes.\n",
    "    \n",
    "    \n",
    "- <b>Module 2:</b> use single inheritance approach to produce reusable code."
   ]
  },
  {
   "cell_type": "markdown",
   "metadata": {
    "slideshow": {
     "slide_type": "slide"
    }
   },
   "source": [
    "<center><h1>Module 2</h1></center>\n",
    "\n",
    "<center><h3>Inheritance in Python</h3></center>"
   ]
  },
  {
   "cell_type": "markdown",
   "metadata": {
    "slideshow": {
     "slide_type": "slide"
    }
   },
   "source": [
    "<center><h1>Inheritance Key Concepts</h1></center>\n",
    "\n",
    "- Inheritance is a mechanism which allows us to create a new class - known as **child class** - that is based upon an existing class - the **parent class**, by adding new attributes and methods on top of the existing class. When you do so, the child class inherits attributes and methods of the parent class.\n",
    "\n",
    "\n",
    "- Inheritance is really effective when you want to create classes that are very similar. All you need to do is to write the code the for the things that they have common in one class - the parent class. And then write code for things that are very specific in a different class - the child class. This saves you from duplicating a lot of code."
   ]
  },
  {
   "cell_type": "markdown",
   "metadata": {
    "slideshow": {
     "slide_type": "slide"
    }
   },
   "source": [
    "<center><h1>Equivalent Terms</h1></center>\n",
    "\n",
    "<center><h3>Base Class  ~  Parent Class  ~  Superclass</h3></center>\n",
    "\n",
    "<center><h3>Derived Class  ~  Child Class  ~  Subclass</h3></center>"
   ]
  },
  {
   "cell_type": "code",
   "execution_count": 1,
   "metadata": {
    "slideshow": {
     "slide_type": "slide"
    }
   },
   "outputs": [
    {
     "name": "stdout",
     "output_type": "stream",
     "text": [
      "16\n",
      "8\n"
     ]
    }
   ],
   "source": [
    "class Rectangle:\n",
    "    def __init__(self, length, width):\n",
    "        self.length = length\n",
    "        self.width = width\n",
    "\n",
    "    def area(self):\n",
    "        return self.length * self.width\n",
    "\n",
    "    def perimeter(self):\n",
    "        return 2 * self.length + 2 * self.width\n",
    "\n",
    "class Square:\n",
    "    def __init__(self, length):\n",
    "        self.length = length\n",
    "\n",
    "    def area(self):\n",
    "        return self.length * self.length\n",
    "\n",
    "    def perimeter(self):\n",
    "        return 4 * self.length\n",
    "    \n",
    "square = Square(4)\n",
    "print(square.area())\n",
    "rectangle = Rectangle(2,4)\n",
    "print(rectangle.area())"
   ]
  },
  {
   "cell_type": "code",
   "execution_count": 2,
   "metadata": {
    "slideshow": {
     "slide_type": "slide"
    }
   },
   "outputs": [
    {
     "name": "stdout",
     "output_type": "stream",
     "text": [
      "16\n",
      "8\n"
     ]
    }
   ],
   "source": [
    "class Rectangle:\n",
    "    def __init__(self, length, width):\n",
    "        self.length = length\n",
    "        self.width = width\n",
    "\n",
    "    def area(self):\n",
    "        return self.length * self.width\n",
    "\n",
    "    def perimeter(self):\n",
    "        return 2 * self.length + 2 * self.width\n",
    "\n",
    "# Here we declare that the Square class inherits from the Rectangle class.\n",
    "class Square(Rectangle):\n",
    "    def __init__(self, length):\n",
    "        super().__init__(length, length)\n",
    "       #Required explicit passing of arguments for super() in older versions of Python:\n",
    "       #super(Square, self).__init__(length, length)\n",
    "square = Square(4)\n",
    "print(square.area())\n",
    "rectangle = Rectangle(2,4)\n",
    "print(rectangle.area())"
   ]
  },
  {
   "cell_type": "code",
   "execution_count": 7,
   "metadata": {
    "slideshow": {
     "slide_type": "slide"
    }
   },
   "outputs": [
    {
     "name": "stdout",
     "output_type": "stream",
     "text": [
      "Bird is ready\n",
      "Penguin is ready\n",
      "Bird\n",
      "Sure! I love swimming!\n",
      "No way!\n"
     ]
    }
   ],
   "source": [
    "# parent class\n",
    "class Bird:\n",
    "    \n",
    "    def __init__(self):\n",
    "        print(\"Bird is ready\")\n",
    "\n",
    "    def whoisThis(self):\n",
    "        print(\"Bird\")\n",
    "        \n",
    "    def run(self):\n",
    "        print(\"No way!\")\n",
    "\n",
    "# child class\n",
    "class Penguin(Bird):\n",
    "\n",
    "    def __init__(self):\n",
    "        super().__init__()\n",
    "        print(\"Penguin is ready\")\n",
    "\n",
    "    def whoisThis(self):\n",
    "        print(\"Penguin\")\n",
    "        \n",
    "    def swim(self):\n",
    "        print(\"Sure! I love swimming!\")\n",
    "\n",
    "peggy = Penguin()\n",
    "peggy.whoisThis()\n",
    "peggy.swim()\n",
    "peggy.run()"
   ]
  },
  {
   "cell_type": "markdown",
   "metadata": {
    "slideshow": {
     "slide_type": "slide"
    }
   },
   "source": [
    "<center><h1>Keyworkd Arguments vs Non-keyword Arguments</h1></center>\n",
    "\n",
    "- `*args` is used to send a non-keyworded variable length argument list to the function.\n",
    "\n",
    "\n",
    "- `**kwargs` allows you to pass **keyworded** variable length of arguments to a function. You should use `**kwargs` if you want to handle named arguments in a function. A keyword argument is where you provide a name to the variable as you pass it into the function."
   ]
  },
  {
   "cell_type": "code",
   "execution_count": 8,
   "metadata": {
    "slideshow": {
     "slide_type": "slide"
    }
   },
   "outputs": [
    {
     "name": "stdout",
     "output_type": "stream",
     "text": [
      "first normal arg: Fereydoon\n",
      "another arg through *argv: python\n",
      "another arg through *argv: lecturer\n",
      "another arg through *argv: UMBC\n"
     ]
    }
   ],
   "source": [
    "def test_var_args(f_arg, *argv):\n",
    "    print(\"first normal arg:\", f_arg)\n",
    "    for arg in argv:\n",
    "        print(\"another arg through *argv:\", arg)\n",
    "\n",
    "test_var_args('Fereydoon', 'python', 'lecturer', 'UMBC')"
   ]
  },
  {
   "cell_type": "code",
   "execution_count": 9,
   "metadata": {
    "slideshow": {
     "slide_type": "slide"
    }
   },
   "outputs": [
    {
     "name": "stdout",
     "output_type": "stream",
     "text": [
      "name = Fereydoon\n"
     ]
    }
   ],
   "source": [
    "def greet_me(**kwargs):\n",
    "    for key, value in kwargs.items():\n",
    "        print(\"{0} = {1}\".format(key, value))\n",
    "        \n",
    "greet_me(name='Fereydoon')"
   ]
  },
  {
   "cell_type": "code",
   "execution_count": 10,
   "metadata": {
    "slideshow": {
     "slide_type": "slide"
    }
   },
   "outputs": [
    {
     "data": {
      "text/plain": [
       "['CMSC471 Artificial Intelligence']"
      ]
     },
     "execution_count": 10,
     "metadata": {},
     "output_type": "execute_result"
    }
   ],
   "source": [
    "class Person:\n",
    "    def __init__(self, name, surname, number):\n",
    "        self.name = name\n",
    "        self.surname = surname\n",
    "        self.number = number\n",
    "\n",
    "class Student(Person):\n",
    "    UNDERGRADUATE, POSTGRADUATE = range(2)\n",
    "\n",
    "    def __init__(self, student_type, *args, **kwargs):\n",
    "        self.student_type = student_type\n",
    "        self.classes = []\n",
    "        super().__init__(*args, **kwargs)\n",
    "\n",
    "    def enroll(self, course):\n",
    "        self.classes.append(course)\n",
    "        \n",
    "jane = Student(Student.UNDERGRADUATE, \"Jane\", \"Smith\", \"SMTJNX045\")\n",
    "jane.enroll('CMSC471 Artificial Intelligence')\n",
    "jane.classes"
   ]
  },
  {
   "cell_type": "markdown",
   "metadata": {
    "slideshow": {
     "slide_type": "slide"
    }
   },
   "source": [
    "<center><h1>How to Use Arguments in Subclasses</h1></center>\n",
    "\n",
    "\n",
    "- In each of the overridden `__init__` methods in a subclass, we can use those of the method’s parameters which are specific to the class inside the method, and then pass the remaining parameters to the parent class’s `__init__` method.\n",
    "\n",
    "\n",
    "- A common convention is to add the specific parameters for each successive subclass to the beginning of the parameter list, and define all the other parameters using `*args` and `**kwargs` – then the subclass doesn’t need to know the details about the parent class’s parameters.\n",
    "\n",
    "\n",
    "- Because of this, if we add a new parameter to the superclass’s `__init__`, we will only need to add it to all the places where we create that class or one of its subclasses – we won’t also have to update all the child class definitions to include the new parameter."
   ]
  },
  {
   "cell_type": "code",
   "execution_count": null,
   "metadata": {
    "slideshow": {
     "slide_type": "slide"
    }
   },
   "outputs": [],
   "source": [
    "\"\"\" Class Acitivity 2\n",
    "Inehritance\"\"\"\n",
    "\n",
    "class Person:\n",
    "    def __init__(self, name, surname, number):\n",
    "        self.name = name\n",
    "        self.surname = surname\n",
    "        self.number = number\n",
    "\n",
    "class Student(Person):\n",
    "    UNDERGRADUATE, POSTGRADUATE = range(2)\n",
    "\n",
    "    def __init__(self, student_type, *args, **kwargs):\n",
    "        self.student_type = student_type\n",
    "        self.classes = []\n",
    "        super().__init__(*args, **kwargs)\n",
    "\n",
    "    def enroll(self, course):\n",
    "        self.classes.append(course)\n",
    "\n",
    "class StaffMember(Person):\n",
    "    PERMANENT, TEMPORARY = range(2)\n",
    "\n",
    "    def __init__(self, employment_type, *args, **kwargs):\n",
    "        self.employment_type = employment_type\n",
    "        super().__init__(*args, **kwargs)\n",
    "\n",
    "class Lecturer(StaffMember):\n",
    "    def __init__(self, *args, **kwargs):\n",
    "        \"\"\" Add an attribute of type list called courses_taught \"\"\"\n",
    "        # ADD YOUR CODE HERE (1 line)\n",
    "        \n",
    "        super().__init__(*args, **kwargs)\n",
    "\n",
    "    def assign_course(self, course):\n",
    "        \"\"\" complete the method to append course to courses_taught \"\"\"\n",
    "        # ADD YOUR CODE HERE (1 line)\n",
    "\n",
    "jane = Student(Student.UNDERGRADUATE, \"Jane\", \"Smith\", \"SMTJNX045\")\n",
    "jane.enrol('CMSC471 Artificial Intelligence')\n",
    "\n",
    "\"\"\" Instantiate an object from Lecturer class as TEMPORARY, named Fereydoon Vafaei,\n",
    "number 123456789 and assign CMSC471 as courses_taught \"\"\" \n",
    "# ADD YOUR CODE HERE (2 lines)"
   ]
  },
  {
   "cell_type": "code",
   "execution_count": 11,
   "metadata": {
    "slideshow": {
     "slide_type": "subslide"
    }
   },
   "outputs": [
    {
     "name": "stdout",
     "output_type": "stream",
     "text": [
      "Fereydoon\n",
      "['CMSC471 Artificial Intelligence']\n"
     ]
    }
   ],
   "source": [
    "\"\"\" Class Acitivity 2\n",
    "Inehritance\"\"\"\n",
    "\n",
    "class Person:\n",
    "    def __init__(self, name, surname, number):\n",
    "        self.name = name\n",
    "        self.surname = surname\n",
    "        self.number = number\n",
    "\n",
    "class Student(Person):\n",
    "    UNDERGRADUATE, POSTGRADUATE = range(2)\n",
    "\n",
    "    def __init__(self, student_type, *args, **kwargs):\n",
    "        self.student_type = student_type\n",
    "        self.classes = []\n",
    "        super().__init__(*args, **kwargs)\n",
    "\n",
    "    def enroll(self, course):\n",
    "        self.classes.append(course)\n",
    "\n",
    "class StaffMember(Person):\n",
    "    PERMANENT, TEMPORARY = range(2)\n",
    "\n",
    "    def __init__(self, employment_type, *args, **kwargs):\n",
    "        self.employment_type = employment_type\n",
    "        super().__init__(*args, **kwargs)\n",
    "\n",
    "class Lecturer(StaffMember):\n",
    "    def __init__(self, *args, **kwargs):\n",
    "        self.courses_taught = []\n",
    "        super().__init__(*args, **kwargs)\n",
    "\n",
    "    def assign_course(self, course):\n",
    "        self.courses_taught.append(course)\n",
    "\n",
    "jane = Student(Student.UNDERGRADUATE, \"Jane\", \"Smith\", \"SMTJNX045\")\n",
    "jane.enroll('CMSC471 Artificial Intelligence')\n",
    "\n",
    "fereydoon = Lecturer(StaffMember.TEMPORARY, \"Fereydoon\", \"Vafaei\", \"123456789\")\n",
    "fereydoon.assign_course('CMSC471 Artificial Intelligence')\n",
    "print(fereydoon.name)\n",
    "print(fereydoon.courses_taught)"
   ]
  },
  {
   "cell_type": "markdown",
   "metadata": {
    "slideshow": {
     "slide_type": "slide"
    }
   },
   "source": [
    "<center><h1>Summary</h1></center>\n",
    "\n",
    "- OOP Basics: How to implement user-defined classes with attributes and methods and how to instantiate objects in Python framework.\n",
    "\n",
    "- Inheritence in Python."
   ]
  },
  {
   "cell_type": "markdown",
   "metadata": {
    "slideshow": {
     "slide_type": "slide"
    }
   },
   "source": [
    "<h3>References:</h3>\n",
    "\n",
    "- Foundations of Python Programming  by Brad Miller et al. (GNU Free Documentation License)\n",
    "- [Python 3.8 Documentation](https://docs.python.org/3.8/tutorial/)\n",
    "- https://www.programiz.com/python-programming/object-oriented-programming\n",
    "- https://overiq.com/python-101/inheritance-and-polymorphism-in-python/\n",
    "- https://book.pythontips.com/en/latest/args_and_kwargs.html"
   ]
  }
 ],
 "metadata": {
  "celltoolbar": "Slideshow",
  "kernelspec": {
   "display_name": "Python 3",
   "language": "python",
   "name": "python3"
  },
  "language_info": {
   "codemirror_mode": {
    "name": "ipython",
    "version": 3
   },
   "file_extension": ".py",
   "mimetype": "text/x-python",
   "name": "python",
   "nbconvert_exporter": "python",
   "pygments_lexer": "ipython3",
   "version": "3.8.5"
  }
 },
 "nbformat": 4,
 "nbformat_minor": 2
}

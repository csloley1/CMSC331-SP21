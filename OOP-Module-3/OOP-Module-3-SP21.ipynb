{
 "cells": [
  {
   "cell_type": "markdown",
   "metadata": {
    "slideshow": {
     "slide_type": "slide"
    }
   },
   "source": [
    "<center><h1>CMSC331 Principles of Programming Languages</h1></center>\n",
    "\n",
    "<center><h3 style=\"color:blue;\">Instructor: Fereydoon Vafaei</h3></center>\n",
    "\n",
    "\n",
    "<center><h5 style=\"color:purple;\">Object Oriented Programming in Python  Module-3</h5></center>\n",
    "\n",
    "<center><img src=\"img/UMBC_logo.png\" align=\"center\"/></center>"
   ]
  },
  {
   "cell_type": "markdown",
   "metadata": {
    "slideshow": {
     "slide_type": "slide"
    }
   },
   "source": [
    "<center><h1>Agenda</h1></center>\n",
    "\n",
    "- <font color='gray'><b>Module 1:</b> OOP Basics - Introduction to Classes, Objects and Methods</font>\n",
    "- <font color='gray'><b>Module 2:</b> Inheritance</font>\n",
    "- <b>Module 3:</b> Multiple Inheritance and Polymorphism"
   ]
  },
  {
   "cell_type": "markdown",
   "metadata": {
    "slideshow": {
     "slide_type": "subslide"
    }
   },
   "source": [
    "<center><h1>Learning Goals</h1></center>\n",
    "\n",
    "After each module students should be able to:\n",
    "- <b>Module 1:</b> \n",
    "    - define classes with attributes, constructor and methods as well as instantiate objects in Python environment.\n",
    "    - describe the difference between class atributes and instance attributes.\n",
    "    \n",
    "    \n",
    "- <b>Module 2:</b> use single inheritance approach to produce reusable code.\n",
    "\n",
    "\n",
    "- <b>Module 3:</b> understand multiple inheritance and polymorphism."
   ]
  },
  {
   "cell_type": "markdown",
   "metadata": {
    "slideshow": {
     "slide_type": "slide"
    }
   },
   "source": [
    "<center><h1>Module 3</h1></center>\n",
    "\n",
    "<center><h3>Multiple Inheritance and Polymorphism in Python</h3></center>"
   ]
  },
  {
   "cell_type": "markdown",
   "metadata": {
    "slideshow": {
     "slide_type": "slide"
    }
   },
   "source": [
    "<center><h1>Multiple Inheritance</h1></center>\n",
    "\n",
    "- In the examples of Module-2, the derived class inherited from one class as \"**parent**\" class, so it's called **Single Inheritance**.\n",
    "\n",
    "- Python supports a form of **Multiple Inheritance** as well.\n",
    "\n",
    "- **Multiple Inheritance** is the ability to derive a class from multiple base classes at the same time.\n",
    "\n",
    "- A class definition with multiple base classes looks like this:"
   ]
  },
  {
   "cell_type": "code",
   "execution_count": 5,
   "metadata": {
    "slideshow": {
     "slide_type": "fragment"
    }
   },
   "outputs": [],
   "source": [
    "class Base1:\n",
    "    pass\n",
    "\n",
    "class Base2:\n",
    "    pass\n",
    "\n",
    "class MultiDerived(Base1, Base2):\n",
    "    pass"
   ]
  },
  {
   "cell_type": "markdown",
   "metadata": {
    "slideshow": {
     "slide_type": "slide"
    }
   },
   "source": [
    "<center><h1>Multiple Inheritance</h1></center>\n",
    "\n",
    "The `MultiDerived` class is derived from two classes `Base1`, and `Base2` (it can also inherit from more than two bases). As a result, it will inherit attributes and methods from both classes.\n",
    "\n",
    "<center><img src=\"img/MultipleInheritance.webp\" align=\"center\"/></center>\n",
    "\n",
    "<font size=1>Image from Ref[4]"
   ]
  },
  {
   "cell_type": "code",
   "execution_count": 6,
   "metadata": {
    "slideshow": {
     "slide_type": "slide"
    }
   },
   "outputs": [
    {
     "name": "stdout",
     "output_type": "stream",
     "text": [
      "explore() method called\n",
      "search() method called\n",
      "discover() method called\n",
      "test() method called\n"
     ]
    }
   ],
   "source": [
    "class A:\n",
    "    def explore(self):\n",
    "        print(\"explore() method called\")\n",
    "\n",
    "class B:\n",
    "    def search(self):\n",
    "        print(\"search() method called\")\n",
    "\n",
    "class C:\n",
    "    def discover(self):\n",
    "        print(\"discover() method called\")\n",
    "\n",
    "class D(A, B, C):\n",
    "    def test(self):\n",
    "        print(\"test() method called\")\n",
    "\n",
    "\n",
    "d_obj = D()\n",
    "d_obj.explore()\n",
    "d_obj.search()\n",
    "d_obj.discover()\n",
    "d_obj.test()"
   ]
  },
  {
   "cell_type": "markdown",
   "metadata": {
    "slideshow": {
     "slide_type": "slide"
    }
   },
   "source": [
    "<center><h1>Multilevel Inheritance</h1></center>\n",
    "\n",
    "- We can also inherit from a derived class. This is called multilevel inheritance. It can be of any depth in Python.\n",
    "\n",
    "- In multilevel inheritance, features of the base class and the derived class are inherited into the new derived class.\n",
    "\n",
    "- An example with corresponding visualization in the next slide is given below."
   ]
  },
  {
   "cell_type": "code",
   "execution_count": 7,
   "metadata": {
    "slideshow": {
     "slide_type": "fragment"
    }
   },
   "outputs": [],
   "source": [
    "class Base:\n",
    "    pass\n",
    "\n",
    "class Derived1(Base):\n",
    "    pass\n",
    "\n",
    "class Derived2(Derived1):\n",
    "    pass"
   ]
  },
  {
   "cell_type": "markdown",
   "metadata": {
    "slideshow": {
     "slide_type": "slide"
    }
   },
   "source": [
    "<center><h1>Multilevel Inheritance</h1></center>\n",
    "\n",
    "- Here, the `Derived1` class is derived from the `Base` class, and the `Derived2` class is derived from the `Derived1` class.\n",
    "\n",
    "<center><img src=\"img/MultilevelInheritance.webp\" align=\"center\"/></center>\n",
    "\n",
    "<font size=1>Image from Ref[4]"
   ]
  },
  {
   "cell_type": "markdown",
   "metadata": {
    "slideshow": {
     "slide_type": "slide"
    }
   },
   "source": [
    "<center><h1>Object Class</h1></center>\n",
    "\n",
    "- Every class in Python is derived from the `object` class. It is the most base type in Python.\n",
    "\n",
    "- So technically, all other classes, either built-in or user-defined, are derived classes and all objects are instances of the object class."
   ]
  },
  {
   "cell_type": "code",
   "execution_count": 8,
   "metadata": {
    "slideshow": {
     "slide_type": "fragment"
    }
   },
   "outputs": [
    {
     "name": "stdout",
     "output_type": "stream",
     "text": [
      "True\n"
     ]
    }
   ],
   "source": [
    "# Output: True\n",
    "print(issubclass(list,object))"
   ]
  },
  {
   "cell_type": "code",
   "execution_count": 9,
   "metadata": {
    "slideshow": {
     "slide_type": "fragment"
    }
   },
   "outputs": [
    {
     "name": "stdout",
     "output_type": "stream",
     "text": [
      "True\n"
     ]
    }
   ],
   "source": [
    "# Output: True\n",
    "print(isinstance(5.5,object))"
   ]
  },
  {
   "cell_type": "code",
   "execution_count": 10,
   "metadata": {
    "slideshow": {
     "slide_type": "fragment"
    }
   },
   "outputs": [
    {
     "name": "stdout",
     "output_type": "stream",
     "text": [
      "True\n"
     ]
    }
   ],
   "source": [
    "# Output: True\n",
    "print(isinstance(\"Hello\",object))"
   ]
  },
  {
   "cell_type": "markdown",
   "metadata": {
    "slideshow": {
     "slide_type": "slide"
    }
   },
   "source": [
    "<center><h1>Method Resolution Order in Python</h1></center>\n",
    "\n",
    "- In the multiple inheritance scenario, any specified attribute is searched first in the current class. If not found, the search continues into parent classes in depth-first, left-right fashion without searching the same class twice.\n",
    "\n",
    "- So, in the previous example of MultiDerived class the search order is [`MultiDerived`, `Base1`, `Base2`, `object`]. This order is also called linearization of `MultiDerived` class and the set of rules used to find this order is called **Method Resolution Order (MRO)**.\n",
    "\n",
    "- **MRO** of a class can be viewed as the `__mro__` attribute or the `mro()` method. The former returns a tuple while the latter returns a list."
   ]
  },
  {
   "cell_type": "code",
   "execution_count": 12,
   "metadata": {
    "slideshow": {
     "slide_type": "fragment"
    }
   },
   "outputs": [
    {
     "data": {
      "text/plain": [
       "(__main__.MultiDerived, __main__.Base1, __main__.Base2, object)"
      ]
     },
     "execution_count": 12,
     "metadata": {},
     "output_type": "execute_result"
    }
   ],
   "source": [
    "MultiDerived.__mro__"
   ]
  },
  {
   "cell_type": "code",
   "execution_count": 13,
   "metadata": {
    "slideshow": {
     "slide_type": "fragment"
    }
   },
   "outputs": [
    {
     "data": {
      "text/plain": [
       "[__main__.MultiDerived, __main__.Base1, __main__.Base2, object]"
      ]
     },
     "execution_count": 13,
     "metadata": {},
     "output_type": "execute_result"
    }
   ],
   "source": [
    "MultiDerived.mro()"
   ]
  },
  {
   "cell_type": "markdown",
   "metadata": {
    "slideshow": {
     "slide_type": "slide"
    }
   },
   "source": [
    "<center><h1>MRO Example-1</h1></center>\n",
    "\n",
    "<center><img src=\"img/mro_1.jpg\" align=\"center\"/></center>\n",
    "\n",
    "<font size=1>Image from Ref[8]"
   ]
  },
  {
   "cell_type": "code",
   "execution_count": 20,
   "metadata": {
    "slideshow": {
     "slide_type": "fragment"
    }
   },
   "outputs": [
    {
     "name": "stdout",
     "output_type": "stream",
     "text": [
      "A process()\n",
      "[<class '__main__.C'>, <class '__main__.A'>, <class '__main__.B'>, <class 'object'>]\n"
     ]
    }
   ],
   "source": [
    "class A:\n",
    "    def process(self):\n",
    "        print('A process()')\n",
    "\n",
    "class B:\n",
    "    pass\n",
    "\n",
    "class C(A, B):\n",
    "    pass\n",
    "\n",
    "obj = C()  \n",
    "obj.process()    \n",
    "print(C.mro())   # print MRO for class C"
   ]
  },
  {
   "cell_type": "markdown",
   "metadata": {
    "slideshow": {
     "slide_type": "slide"
    }
   },
   "source": [
    "<center><h1>MRO Example-2</h1></center>\n",
    "\n",
    "<center><img src=\"img/mro_2.jpg\" align=\"center\"/></center>\n",
    "\n",
    "<font size=1>Image from Ref[8]"
   ]
  },
  {
   "cell_type": "code",
   "execution_count": 21,
   "metadata": {
    "slideshow": {
     "slide_type": "fragment"
    }
   },
   "outputs": [
    {
     "name": "stdout",
     "output_type": "stream",
     "text": [
      "C process()\n",
      "[<class '__main__.D'>, <class '__main__.C'>, <class '__main__.A'>, <class '__main__.B'>, <class 'object'>]\n"
     ]
    }
   ],
   "source": [
    "class A:\n",
    "    def process(self):\n",
    "        print('A process()')\n",
    "class B:\n",
    "    def process(self):\n",
    "        print('B process()')\n",
    "class C(A, B):\n",
    "    def process(self):\n",
    "        print('C process()')\n",
    "\n",
    "class D(C,B):\n",
    "    pass\n",
    "\n",
    "obj = D()\n",
    "obj.process()\n",
    "\n",
    "print(D.mro())"
   ]
  },
  {
   "cell_type": "markdown",
   "metadata": {
    "slideshow": {
     "slide_type": "slide"
    }
   },
   "source": [
    "<center><h1>The Diamond Problem</h1></center>\n",
    "\n",
    "- The diamond problem appears when you’re using multiple inheritance and deriving from two classes that have a common base class. This can cause the wrong version of a method to be called.\n",
    "\n",
    "- Python provides a way to force the right method to be invoked, and analyzing the **MRO** can help you understand the problem.\n",
    "\n",
    "- However, when you run into the diamond problem, it’s better to re-think the design of classes to avoid the diamond problem. \n",
    "\n",
    "<center><img src=\"img/diamond-problem.png\" align=\"center\"/></center>\n",
    "\n",
    "<font size=1>Image from Ref[7]"
   ]
  },
  {
   "cell_type": "markdown",
   "metadata": {
    "slideshow": {
     "slide_type": "slide"
    }
   },
   "source": [
    "<center><h1>The Diamond Problem Example</h1></center>\n",
    "\n",
    "- The diagram shows the diamond problem with the current class design. `TemporarySecretary` uses multiple inheritance to derive from two classes that ultimately also derive from `Employee`. This causes two paths to reach the `Employee` base class, which is something you want to avoid in your designs.\n",
    "\n",
    "<center><img src=\"img/diamond-problem.webp\" align=\"center\"/></center>\n",
    "\n",
    "<font size=1>Image from Ref[7]"
   ]
  },
  {
   "cell_type": "markdown",
   "metadata": {
    "slideshow": {
     "slide_type": "slide"
    }
   },
   "source": [
    "<center><h1>Polymorphism</h1></center>\n",
    "\n",
    "- **Polymorphism** means the ability to take various forms.\n",
    "\n",
    "- In Python, **Polymorphism** allows us to define methods in the child class with the same name as defined in their parent class."
   ]
  },
  {
   "cell_type": "markdown",
   "metadata": {
    "slideshow": {
     "slide_type": "slide"
    }
   },
   "source": [
    "<center><h1>Method Overriding</h1></center>\n",
    "\n",
    "- A child class inherits all the methods from the parent class. However, you will encounter situations where the method inherited from the parent class doesn't quite fit into the child class. In such cases, you will have to re-implement method in the child class. This process is known as **Method Overriding**.\n",
    "\n",
    "- If you have overridden a method in child class, then the version of the method will be called based upon the the type of the object used to call it. If a child class object is used to call an overridden method then the child class version of the method is called. On the other hand, if parent class object is used to call an overridden method, then the parent class version of the method is called.\n",
    "\n",
    "- The following program demonstrates method overriding in action:"
   ]
  },
  {
   "cell_type": "code",
   "execution_count": 15,
   "metadata": {
    "slideshow": {
     "slide_type": "fragment"
    }
   },
   "outputs": [
    {
     "name": "stdout",
     "output_type": "stream",
     "text": [
      "explore() method from class B\n",
      "explore() method from class A\n"
     ]
    }
   ],
   "source": [
    "class A:\n",
    "    def explore(self):\n",
    "        print(\"explore() method from class A\")\n",
    "\n",
    "class B(A):\n",
    "    def explore(self):\n",
    "        print(\"explore() method from class B\")\n",
    "\n",
    "\n",
    "b_obj = B()\n",
    "a_obj = A()\n",
    "\n",
    "b_obj.explore()\n",
    "a_obj.explore()"
   ]
  },
  {
   "cell_type": "markdown",
   "metadata": {
    "slideshow": {
     "slide_type": "slide"
    }
   },
   "source": [
    "<center><h1>Accessing Overriden Method from the Parent Class</h1></center>\n",
    "\n",
    "- If for some reason you still want to access the overridden method of the parent class in the child class, you can call it using the `super()` function as follows:"
   ]
  },
  {
   "cell_type": "code",
   "execution_count": 16,
   "metadata": {
    "slideshow": {
     "slide_type": "fragment"
    }
   },
   "outputs": [
    {
     "name": "stdout",
     "output_type": "stream",
     "text": [
      "explore() method from class A\n",
      "explore() method from class B\n"
     ]
    }
   ],
   "source": [
    "class A:\n",
    "    def explore(self):\n",
    "        print(\"explore() method from class A\")\n",
    "\n",
    "class B(A):\n",
    "    def explore(self):\n",
    "        super().explore()  # calling the parent class explore() method\n",
    "        print(\"explore() method from class B\")\n",
    "\n",
    "\n",
    "b_obj = B()\n",
    "b_obj.explore()"
   ]
  },
  {
   "cell_type": "code",
   "execution_count": 17,
   "metadata": {
    "slideshow": {
     "slide_type": "slide"
    }
   },
   "outputs": [
    {
     "name": "stdout",
     "output_type": "stream",
     "text": [
      "Circle\n",
      "I am a two-dimensional shape.\n",
      "Squares have each angle equal to 90 degrees.\n",
      "153.93804002589985\n"
     ]
    }
   ],
   "source": [
    "# Another Polymorphism Example\n",
    "from math import pi\n",
    "\n",
    "\n",
    "class Shape:\n",
    "    def __init__(self, name):\n",
    "        self.name = name\n",
    "\n",
    "    def area(self):\n",
    "        pass\n",
    "\n",
    "    def fact(self):\n",
    "        return \"I am a two-dimensional shape.\"\n",
    "\n",
    "    def __str__(self):\n",
    "        return self.name\n",
    "\n",
    "\n",
    "class Square(Shape):\n",
    "    def __init__(self, length):\n",
    "        super().__init__(\"Square\")\n",
    "        self.length = length\n",
    "\n",
    "    def area(self):\n",
    "        return self.length**2\n",
    "\n",
    "    def fact(self):\n",
    "        return \"Squares have each angle equal to 90 degrees.\"\n",
    "\n",
    "\n",
    "class Circle(Shape):\n",
    "    def __init__(self, radius):\n",
    "        super().__init__(\"Circle\")\n",
    "        self.radius = radius\n",
    "\n",
    "    def area(self):\n",
    "        return pi*self.radius**2\n",
    "\n",
    "\n",
    "a = Square(4)\n",
    "b = Circle(7)\n",
    "print(b)\n",
    "print(b.fact())\n",
    "print(a.fact())\n",
    "print(b.area())"
   ]
  },
  {
   "cell_type": "markdown",
   "metadata": {
    "slideshow": {
     "slide_type": "slide"
    }
   },
   "source": [
    "<center><h1>Polymorphism Example</h1></center>\n",
    "\n",
    "- Here, we can see that the methods such as `__str__()`, which have not been overridden in the child classes, are used from the parent class.\n",
    "\n",
    "- Due to polymorphism, the Python interpreter automatically recognizes that the `fact()` method for object `a` (`Square` class) is overridden. So, it uses the one defined in the child class.\n",
    "\n",
    "- On the other hand, since the `fact()` method for object `b` isn't overridden, it is used from the Parent `Shape` class.\n",
    "\n",
    "<center><img src=\"img/polymorphism.webp\" align=\"center\"/></center>\n",
    "\n",
    "<font size=1>Image from Ref[5]"
   ]
  },
  {
   "cell_type": "markdown",
   "metadata": {
    "slideshow": {
     "slide_type": "slide"
    }
   },
   "source": [
    "<h3>References:</h3>\n",
    "\n",
    "[1] - Foundations of Python Programming  by Brad Miller et al. (GNU Free Documentation License)<br>\n",
    "[2] - [Python 3.8 Documentation](https://docs.python.org/3.8/tutorial/)<br>\n",
    "[3] - https://www.programiz.com/python-programming/object-oriented-programming<br>\n",
    "[4] - https://www.programiz.com/python-programming/multiple-inheritance<br>\n",
    "[5] - https://www.programiz.com/python-programming/polymorphism<br>\n",
    "[6] - https://overiq.com/python-101/inheritance-and-polymorphism-in-python/<br>\n",
    "[7] - https://realpython.com/inheritance-composition-python/#inheriting-multiple-classes<br>\n",
    "[8] - http://www.srikanthtechnologies.com/blog/python/mro.aspx"
   ]
  }
 ],
 "metadata": {
  "celltoolbar": "Slideshow",
  "kernelspec": {
   "display_name": "Python 3",
   "language": "python",
   "name": "python3"
  },
  "language_info": {
   "codemirror_mode": {
    "name": "ipython",
    "version": 3
   },
   "file_extension": ".py",
   "mimetype": "text/x-python",
   "name": "python",
   "nbconvert_exporter": "python",
   "pygments_lexer": "ipython3",
   "version": "3.8.5"
  }
 },
 "nbformat": 4,
 "nbformat_minor": 2
}

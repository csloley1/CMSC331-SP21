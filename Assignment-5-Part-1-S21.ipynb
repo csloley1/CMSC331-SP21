{
 "cells": [
  {
   "cell_type": "markdown",
   "metadata": {},
   "source": [
    "# CMSC331 Spring 2021\n",
    "\n",
    "## Instructor: Fereydoon Vafaei\n",
    "\n",
    "### <b><font color='blue'>Assignment-5-Part-1</font>\n",
    "\n",
    "### <b><font color='red'>Due Date: Thursday April 8th, 11:59PM</font></b>"
   ]
  },
  {
   "cell_type": "markdown",
   "metadata": {},
   "source": [
    "Assignment-5 has 2 parts. This is **Part-1** of Assignment-5 in which you're going to do some exercises with RegEx, list comprehension, classes and inheritance. You'll receieve Part-2 of A5 on April 9th.\n",
    "\n",
    "Read the instructions and specifications of each question very carefully and then write your answers (all of your Python codes) formatted in a Python file as specified below:\n",
    "\n",
    "- You should include your name and ID as a Python comment line at the top of your `.py` answer file. \n",
    "\n",
    "- For each of your answers, specify the question number using Python comments. Your `.py` answer file should look like the following:\n",
    "\n",
    "    `# STUDENT NAME & ID`<br>\n",
    "\n",
    "    `# Q1` <br>\n",
    "    ` YOUR CODE `\n",
    "\n",
    "    `# Q2` <br>\n",
    "    ` YOUR CODE `\n",
    "\n",
    "    `# Q3` <br>\n",
    "    ` YOUR CODE `\n",
    "\n",
    "    `# Q4` <br>\n",
    "    ` YOUR CODE `\n",
    "\n",
    "    `# Q5` <br>\n",
    "    ` YOUR CODE `\n",
    "\n",
    "\n",
    "- Points will be deducted if you don’t follow the instructions and the required format precisely.\n",
    "\n",
    "- Name your answer file `Lastname-A5-Part-1.py` and submit it using `Assignment-5-Part-1` link in Blackboard.\n",
    "\n",
    "Assignment-5-Part-1 has a total of 50 points (10 points per question)."
   ]
  },
  {
   "cell_type": "markdown",
   "metadata": {},
   "source": [
    "**Note**: Replace ellipsis `...` with your code."
   ]
  },
  {
   "cell_type": "markdown",
   "metadata": {},
   "source": [
    "## Q1\n",
    "\n",
    "Write a RegEx in Python and use an appropriate method from `re` library that replaces one or more occurrences of plus '+' with a single dash '-' in the following string named `q1`."
   ]
  },
  {
   "cell_type": "code",
   "execution_count": 6,
   "metadata": {},
   "outputs": [
    {
     "name": "stdout",
     "output_type": "stream",
     "text": [
      "ABCD-1234-EFGH-****\n"
     ]
    }
   ],
   "source": [
    "import re\n",
    "\n",
    "q1 = \"ABCD+++1234+EFGH++****\"\n",
    "\n",
    "result = ... \n",
    "print(result) # prints ABCD-1234-EFGH-****"
   ]
  },
  {
   "cell_type": "markdown",
   "metadata": {},
   "source": [
    "## Q2\n",
    "\n",
    "Write a one-line list comprehension that outputs the following list:\n",
    "\n",
    "- For the first 30 integers (int numbers between 1 and 30 inclusive):\n",
    "    - if the number is odd, square it\n",
    "    - if the number is even, double it\n",
    "    \n",
    "**Note**: Your answer must be a one-line list comprehension. Other solutions will not get any points."
   ]
  },
  {
   "cell_type": "code",
   "execution_count": 10,
   "metadata": {},
   "outputs": [
    {
     "name": "stdout",
     "output_type": "stream",
     "text": [
      "30 numbers in q2 list\n",
      "[1, 4, 9, 8, 25, 12, 49, 16, 81, 20, 121, 24, 169, 28, 225, 32, 289, 36, 361, 40, 441, 44, 529, 48, 625, 52, 729, 56, 841, 60]\n"
     ]
    }
   ],
   "source": [
    "q2 = ...\n",
    "print(len(q2), 'numbers in q2 list')\n",
    "print(q2)"
   ]
  },
  {
   "cell_type": "markdown",
   "metadata": {},
   "source": [
    "## Q3\n",
    "\n",
    "Using `lambda` and `filter()` functions, write one line of code that can filter any string from the `str_list` that has less than 4 characters. See the desired output.\n",
    "\n",
    "**Note**: Your answer must be one line and must use `lambda` and `filter()`. Other solutions will not get any points."
   ]
  },
  {
   "cell_type": "code",
   "execution_count": 11,
   "metadata": {},
   "outputs": [
    {
     "name": "stdout",
     "output_type": "stream",
     "text": [
      "<class 'filter'>\n",
      "['UMBC']\n"
     ]
    }
   ],
   "source": [
    "str_list = ['UMBC', 'UMD', 'UMB', 'TU']\n",
    "\n",
    "q3 = ...\n",
    "\n",
    "print(type(q3))\n",
    "print(list(q3))"
   ]
  },
  {
   "cell_type": "markdown",
   "metadata": {},
   "source": [
    "## Q4\n",
    "\n",
    "Create a `Vehicle` class with three instance attributes: `make`, `model`, `year`\n",
    "\n",
    "Add a method named `isNew()`that returns `True` if the `year` equals `2021`; else returns `False`"
   ]
  },
  {
   "cell_type": "code",
   "execution_count": 12,
   "metadata": {},
   "outputs": [
    {
     "name": "stdout",
     "output_type": "stream",
     "text": [
      "<class '__main__.Vehicle'>\n",
      "{'make': 'Honda', 'model': 'Accord', 'year': 2021}\n",
      "True\n"
     ]
    }
   ],
   "source": [
    "# Vehicle class\n",
    "...\n",
    "\n",
    "q4 = Vehicle('Honda', 'Accord', 2021)\n",
    "print(type(q4))\n",
    "print(q4.__dict__)\n",
    "print(Vehicle.isNew(q4))"
   ]
  },
  {
   "cell_type": "markdown",
   "metadata": {},
   "source": [
    "## Q5\n",
    "\n",
    "Create a class `SUV` that inherits from `Vehicle` class. `SUV` has two additional instance attributes: `transmission` and `milage`. You must use `*args` and `**kwargs` in the constructor method of `SUV` class otherwise your answer doesn't get any points."
   ]
  },
  {
   "cell_type": "code",
   "execution_count": 13,
   "metadata": {},
   "outputs": [
    {
     "name": "stdout",
     "output_type": "stream",
     "text": [
      "<class '__main__.SUV'>\n",
      "{'transmission': 'Automatic', 'milage': 75000, 'make': 'Honda', 'model': 'CRV', 'year': 2020}\n",
      "False\n"
     ]
    }
   ],
   "source": [
    "# SUV class\n",
    "...\n",
    "        \n",
    "q5 = SUV('Automatic', 75000, 'Honda', 'CRV', 2020)\n",
    "print(type(q5))\n",
    "print(q5.__dict__)\n",
    "print(SUV.isNew(q5))"
   ]
  }
 ],
 "metadata": {
  "kernelspec": {
   "display_name": "Python 3",
   "language": "python",
   "name": "python3"
  },
  "language_info": {
   "codemirror_mode": {
    "name": "ipython",
    "version": 3
   },
   "file_extension": ".py",
   "mimetype": "text/x-python",
   "name": "python",
   "nbconvert_exporter": "python",
   "pygments_lexer": "ipython3",
   "version": "3.8.5"
  }
 },
 "nbformat": 4,
 "nbformat_minor": 4
}

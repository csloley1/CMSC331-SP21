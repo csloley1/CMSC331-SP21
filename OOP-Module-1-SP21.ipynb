{
 "cells": [
  {
   "cell_type": "markdown",
   "metadata": {
    "slideshow": {
     "slide_type": "slide"
    }
   },
   "source": [
    "<center><h1>CMSC331 Principles of Programming Languages</h1></center>\n",
    "\n",
    "<center><h3 style=\"color:blue;\">Instructor: Fereydoon Vafaei</h3></center>\n",
    "\n",
    "\n",
    "<center><h5 style=\"color:purple;\">Object Oriented Programming in Python - Module-1</h5></center>\n",
    "\n",
    "<center><img src=\"img/UMBC_logo.png\" align=\"center\"/></center>"
   ]
  },
  {
   "cell_type": "markdown",
   "metadata": {
    "slideshow": {
     "slide_type": "slide"
    }
   },
   "source": [
    "<center><h1>Agenda</h1></center>\n",
    "\n",
    "- <b>Module 1:</b> OOP Basics - Introduction to Classes, Objects and Methods"
   ]
  },
  {
   "cell_type": "markdown",
   "metadata": {
    "slideshow": {
     "slide_type": "subslide"
    }
   },
   "source": [
    "<center><h1>Learning Goals</h1></center>\n",
    "\n",
    "After this module students should be able to:\n",
    "- <b>Module 1:</b> \n",
    "    - define classes with attributes, constructor and methods as well as instantiate objects in Python environment.\n",
    "    - describe the difference between class atributes and instance attributes."
   ]
  },
  {
   "cell_type": "markdown",
   "metadata": {
    "slideshow": {
     "slide_type": "slide"
    }
   },
   "source": [
    "<h1><center>Module 1</center></h1>\n",
    "\n",
    "<h3><center>OOP Basics</center></h3>\n"
   ]
  },
  {
   "cell_type": "markdown",
   "metadata": {
    "slideshow": {
     "slide_type": "slide"
    }
   },
   "source": [
    "<h1><center>OOP Paradigm</center></h1>\n",
    "\n",
    "- Object-oriented programming has its roots in the 1960s, but it wasn’t until the mid 1980s that it became the main programming paradigm used in the creation of new software. It was developed as a way to handle the rapidly increasing size and complexity of software systems and to make it easier to modify these large and complex systems over time.\n",
    " \n",
    " \n",
    "- In procedural programming the focus is on writing functions or procedures which operate on data.\n",
    "\n",
    "\n",
    "- In object-oriented programming the focus is on the creation of objects which contain both data and functionality together.\n",
    "\n",
    "\n",
    "- Usually, each object definition corresponds to some object or concept in the real world and the functions that operate on that object correspond to the ways real-world objects interact."
   ]
  },
  {
   "cell_type": "markdown",
   "metadata": {
    "slideshow": {
     "slide_type": "slide"
    }
   },
   "source": [
    "<h1><center>OOP Vs Procedural</center></h1>\n",
    "\n",
    "- In **procedural programming** the focus is on writing functions or procedures which operate on data.\n",
    "\n",
    "\n",
    "- In **OOP** the focus is on the creation of objects which contain both data and functionality together."
   ]
  },
  {
   "cell_type": "markdown",
   "metadata": {
    "slideshow": {
     "slide_type": "fragment"
    }
   },
   "source": [
    "- **OOP**: A powerful style of programming in which data and the operations that manipulate it are organized into classes and methods.\n",
    "\n",
    "\n",
    "- **DRY**  - Don't Repeat Yourself! The concept of OOP in Python focuses on creating reusable code."
   ]
  },
  {
   "cell_type": "markdown",
   "metadata": {
    "slideshow": {
     "slide_type": "slide"
    }
   },
   "source": [
    "<h1><center>Principles of OOP</center></h1>\n",
    "\n",
    "- Principles of **OOP**:\n",
    "\n",
    "    - **Abstraction**--- means a concept or an Idea which is not associated with any particular instance. \n",
    "    - **Encapsulation**--- is the mechanism of hiding of data implementation by restricting access to public methods. Instance variables are kept private and accessor methods are made public.\n",
    "    - **Inhertiance**--- expresses **is-a** and/or **has-a** relationship between two objects.\n",
    "    - **Polymorphism**--- means that one name may have many forms. It has two types: static and dynamic. **Static polymorphism** is implemented using method overloading and **dynamic polymorphism** using method overriding. "
   ]
  },
  {
   "cell_type": "markdown",
   "metadata": {
    "slideshow": {
     "slide_type": "slide"
    }
   },
   "source": [
    "<h1><center>OOP in Python</center></h1>\n",
    "\n",
    "- **Python** is a multi-paradigm programming language.\n",
    "\n",
    "\n",
    "- **OOP in Python** has some key differences with OOP in C++ or JAVA. For instance, Python leaves the option of adherence to [**Uniform Access Principle**](https://en.wikipedia.org/wiki/Uniform_access_principle) which states \"All services offered by a module should be available through a uniform notation, which does not betray whether they are implemented through storage or through computation\". -Bertrand Meyer"
   ]
  },
  {
   "cell_type": "code",
   "execution_count": 4,
   "metadata": {
    "slideshow": {
     "slide_type": "slide"
    }
   },
   "outputs": [],
   "source": [
    "# Some fun imports in Python!\n",
    "\n",
    "#from __future__ import braces\n",
    "\n",
    "#import __hello__\n",
    "\n",
    "#import this\n",
    "\n",
    "#import antigravity"
   ]
  },
  {
   "cell_type": "markdown",
   "metadata": {
    "slideshow": {
     "slide_type": "slide"
    }
   },
   "source": [
    "<h1><center>First Concepts: Classes and Objects</center></h1>\n",
    "\n",
    "- You’ve worked with classes like `str`, `int`, `float` and `list`. These were defined by Python and made available for you to use.\n",
    "\n",
    "\n",
    "- However, in many cases when you are solving problems, you need to create data objects that are related to the problem you are trying to solve. You need to create your own classes!"
   ]
  },
  {
   "cell_type": "markdown",
   "metadata": {
    "slideshow": {
     "slide_type": "slide"
    }
   },
   "source": [
    "<h2><center>Object Example: A Mathematical Point</center></h2>\n",
    "\n",
    "<center><img src=\"img/objectpic2.png\" align=\"center\"/></center>"
   ]
  },
  {
   "cell_type": "code",
   "execution_count": 5,
   "metadata": {
    "slideshow": {
     "slide_type": "slide"
    }
   },
   "outputs": [
    {
     "name": "stdout",
     "output_type": "stream",
     "text": [
      "<class '__main__.Point'>\n"
     ]
    },
    {
     "data": {
      "text/plain": [
       "<__main__.Point at 0x7fea40458160>"
      ]
     },
     "execution_count": 5,
     "metadata": {},
     "output_type": "execute_result"
    }
   ],
   "source": [
    "class Point:\n",
    "    pass # do nothing!\n",
    "\n",
    "p = Point() # instantiate an object from class Point.\n",
    "print(type(p))\n",
    "p"
   ]
  },
  {
   "cell_type": "code",
   "execution_count": 6,
   "metadata": {
    "slideshow": {
     "slide_type": "slide"
    }
   },
   "outputs": [
    {
     "name": "stdout",
     "output_type": "stream",
     "text": [
      "Constructor is invoked!\n",
      "x:  0\n",
      "y:  0\n"
     ]
    },
    {
     "data": {
      "text/plain": [
       "{'x': 0, 'y': 0}"
      ]
     },
     "execution_count": 6,
     "metadata": {},
     "output_type": "execute_result"
    }
   ],
   "source": [
    "class Point:\n",
    "\n",
    "    def __init__(self):  # Constructor method has a special name __init__\n",
    "        \n",
    "        ''' The self parameter is a reference to the current instance of the class,\n",
    "        and is used to access variables that belongs to the class.\n",
    "        \n",
    "        It does not have to be named self , you can call it whatever you like,\n",
    "        but it has to be the first parameter of any function in the class. '''\n",
    "        \n",
    "        print('Constructor is invoked!')\n",
    "        self.x = 0\n",
    "        self.y = 0\n",
    "\n",
    "p = Point()\n",
    "print('x: ', p.x)\n",
    "print('y: ', p.y)\n",
    "p.__dict__"
   ]
  },
  {
   "cell_type": "code",
   "execution_count": 8,
   "metadata": {
    "slideshow": {
     "slide_type": "slide"
    }
   },
   "outputs": [
    {
     "name": "stdout",
     "output_type": "stream",
     "text": [
      "Nothing seems to have happened with the points!\n",
      "<__main__.Point object at 0x7fea4046d4c0>\n",
      "<__main__.Point object at 0x7fea4046d5b0>\n"
     ]
    }
   ],
   "source": [
    "class Point:\n",
    "\n",
    "    def __init__(self):\n",
    "\n",
    "        self.x = 0\n",
    "        self.y = 0\n",
    "\n",
    "p = Point()         # Instantiate an object of type Point\n",
    "q = Point()         # and make a second point\n",
    "\n",
    "print(\"Nothing seems to have happened with the points!\")\n",
    "print(p)\n",
    "print(q)"
   ]
  },
  {
   "cell_type": "markdown",
   "metadata": {
    "slideshow": {
     "slide_type": "slide"
    }
   },
   "source": [
    "<center><img src=\"img/objectpic4.png\" align=\"center\"/></center>"
   ]
  },
  {
   "cell_type": "markdown",
   "metadata": {
    "slideshow": {
     "slide_type": "notes"
    }
   },
   "source": [
    "get back to the previous code, print(p) and print(q) to show that they occupy two different locations in memory!"
   ]
  },
  {
   "cell_type": "markdown",
   "metadata": {
    "slideshow": {
     "slide_type": "notes"
    }
   },
   "source": [
    "'__main__' is the name of the scope in which top-level code executes."
   ]
  },
  {
   "cell_type": "markdown",
   "metadata": {
    "slideshow": {
     "slide_type": "slide"
    }
   },
   "source": [
    "<center><img src=\"img/objectpic3.png\" align=\"center\"/></center>"
   ]
  },
  {
   "cell_type": "code",
   "execution_count": 9,
   "metadata": {
    "slideshow": {
     "slide_type": "subslide"
    }
   },
   "outputs": [
    {
     "name": "stdout",
     "output_type": "stream",
     "text": [
      "7\n",
      "6\n"
     ]
    }
   ],
   "source": [
    "class Point:\n",
    "\n",
    "    def __init__(self, initX, initY): # We're now passing x-value and y-value as arguments to the conctructor.\n",
    "\n",
    "        self.x = initX\n",
    "        self.y = initY\n",
    "\n",
    "    def getX(self):\n",
    "        return self.x\n",
    "\n",
    "    def getY(self):\n",
    "        return self.y\n",
    "\n",
    "\n",
    "p = Point(7,6)\n",
    "print(p.getX())\n",
    "print(p.getY())"
   ]
  },
  {
   "cell_type": "code",
   "execution_count": 10,
   "metadata": {
    "slideshow": {
     "slide_type": "subslide"
    }
   },
   "outputs": [
    {
     "name": "stdout",
     "output_type": "stream",
     "text": [
      "9.219544457292887\n"
     ]
    }
   ],
   "source": [
    "class Point:\n",
    "\n",
    "    def __init__(self, initX, initY):\n",
    "\n",
    "        self.x = initX\n",
    "        self.y = initY\n",
    "\n",
    "    def getX(self):\n",
    "        return self.x\n",
    "\n",
    "    def getY(self):\n",
    "        return self.y\n",
    "\n",
    "    def distanceFromOrigin(self):\n",
    "        return ((self.x ** 2) + (self.y ** 2)) ** 0.5\n",
    "\n",
    "\n",
    "p = Point(7,6)\n",
    "print(p.distanceFromOrigin())"
   ]
  },
  {
   "cell_type": "code",
   "execution_count": 11,
   "metadata": {
    "slideshow": {
     "slide_type": "slide"
    }
   },
   "outputs": [
    {
     "data": {
      "text/plain": [
       "'hello world'"
      ]
     },
     "execution_count": 11,
     "metadata": {},
     "output_type": "execute_result"
    }
   ],
   "source": [
    "class MyClass:\n",
    "    \n",
    "    def myMethod(self):         # A new method!\n",
    "        return 'hello world'\n",
    "\n",
    "newObject = MyClass()           # Instantiate a new object of MyClass\n",
    "\n",
    "newObject.myMethod()            # Call myMethod"
   ]
  },
  {
   "cell_type": "code",
   "execution_count": 13,
   "metadata": {
    "slideshow": {
     "slide_type": "slide"
    }
   },
   "outputs": [
    {
     "name": "stdout",
     "output_type": "stream",
     "text": [
      "<class '__main__.Complex'>\n"
     ]
    },
    {
     "data": {
      "text/plain": [
       "(3.0, -4.5)"
      ]
     },
     "execution_count": 13,
     "metadata": {},
     "output_type": "execute_result"
    }
   ],
   "source": [
    "class Complex:\n",
    "    def __init__(self, realPart, imagPart):\n",
    "        self.r = realPart\n",
    "        self.i = imagPart\n",
    "\n",
    "x = Complex(3.0, -4.5)\n",
    "print(type(x))\n",
    "x.r, x.i"
   ]
  },
  {
   "cell_type": "code",
   "execution_count": null,
   "metadata": {
    "slideshow": {
     "slide_type": "slide"
    }
   },
   "outputs": [],
   "source": [
    "\"\"\" Class Acitivity 1\n",
    "Write a method for class Complex that computes the sum of two Complex numbers.\"\"\"\n",
    "\n",
    "class Complex:\n",
    "    def __init__(self, realPart, imagPart):\n",
    "        self.r = realPart\n",
    "        self.i = imagPart\n",
    "        \n",
    "    def addComplex(x, y):\n",
    "        # ADD YOUR CODE HERE (~ 4 lines)\n",
    "\n",
    "x = Complex(3.0, -4.5)\n",
    "y = Complex(2.0, -1.25)\n",
    "\n",
    "\"\"\" Call addComplex method to add x and y \"\"\"\n",
    "# ADD YOUR CODE HERE (1 line)"
   ]
  },
  {
   "cell_type": "code",
   "execution_count": 15,
   "metadata": {
    "slideshow": {
     "slide_type": "subslide"
    }
   },
   "outputs": [
    {
     "data": {
      "text/plain": [
       "(5.0, -5.75)"
      ]
     },
     "execution_count": 15,
     "metadata": {},
     "output_type": "execute_result"
    }
   ],
   "source": [
    "\"\"\" Class Acitivity 1\n",
    "Write a method for class Complex that computes the sum of two Complex numbers.\"\"\"\n",
    "\n",
    "class Complex:\n",
    "    def __init__(self, realPart, imagPart):\n",
    "        self.r = realPart\n",
    "        self.i = imagPart\n",
    "   \n",
    "    def addComplex(x, y):\n",
    "        z = Complex(0.0, 0.0)\n",
    "        z.r = x.r + y.r\n",
    "        z.i = x.i + y.i\n",
    "        return (z.r, z.i)\n",
    "        #return z # why not?\n",
    "\n",
    "x = Complex(3.0, -4.5)\n",
    "y = Complex(2.0, -1.25)\n",
    "#y = 2 #let's try with an int as argument.\n",
    "\n",
    "\"\"\" Call addComplex method to add x and y \"\"\"\n",
    "Complex.addComplex(x, y)"
   ]
  },
  {
   "cell_type": "markdown",
   "metadata": {
    "slideshow": {
     "slide_type": "notes"
    }
   },
   "source": [
    "Explain namespace after getting the error!"
   ]
  },
  {
   "cell_type": "code",
   "execution_count": null,
   "metadata": {
    "slideshow": {
     "slide_type": "skip"
    }
   },
   "outputs": [],
   "source": [
    "\"\"\" Class Acitivity 1\n",
    "Write a method for class Complex that computes the sum of two Complex numbers.\"\"\"\n",
    "\n",
    "class Complex:\n",
    "    def __init__(self, realPart, imagPart):\n",
    "        self.r = realPart\n",
    "        self.i = imagPart\n",
    "        \n",
    "    @staticmethod            #decorator\n",
    "    def addComplex(x, y):\n",
    "        z = Complex(0.0, 0.0)\n",
    "        z.r = x.r + y.r\n",
    "        z.i = x.i + y.i\n",
    "        return (z)\n",
    "\n",
    "x = Complex(3.0, -4.5)\n",
    "y = Complex(2.0, -1.25)\n",
    "#y = 2                      # pass an int instead of Complex, see what happens!\n",
    "\n",
    "\"\"\" Call addComplex method to add x and y \"\"\"\n",
    "z = Complex.addComplex(x, y)\n",
    "print(z.r, z.i)"
   ]
  },
  {
   "cell_type": "code",
   "execution_count": 16,
   "metadata": {
    "slideshow": {
     "slide_type": "slide"
    }
   },
   "outputs": [
    {
     "data": {
      "text/plain": [
       "(5.0, -5.75)"
      ]
     },
     "execution_count": 16,
     "metadata": {},
     "output_type": "execute_result"
    }
   ],
   "source": [
    "\"\"\" Class Acitivity 1\n",
    "Add a method for class Complex that computes the sum of two Complex numbers.\"\"\"\n",
    "\n",
    "class Complex:\n",
    "    def __init__(self, realPart, imagPart):\n",
    "        self.r = realPart\n",
    "        self.i = imagPart\n",
    "        \n",
    "    def addComplex(self, y):\n",
    "        z = Complex(0.0, 0.0)\n",
    "        z.r = self.r + y.r\n",
    "        z.i = self.i + y.i\n",
    "        return (z.r, z.i)\n",
    "\n",
    "x = Complex(3.0, -4.5)\n",
    "y = Complex(2.0, -1.25)\n",
    "\n",
    "x.addComplex(y)"
   ]
  },
  {
   "cell_type": "code",
   "execution_count": 17,
   "metadata": {
    "slideshow": {
     "slide_type": "slide"
    }
   },
   "outputs": [
    {
     "name": "stdout",
     "output_type": "stream",
     "text": [
      "mammal\n",
      "mammal\n",
      "Fido\n",
      "Buddy\n"
     ]
    }
   ],
   "source": [
    "class Dog:\n",
    "\n",
    "    kind = 'mammal'         # class attribute shared by all instances\n",
    "\n",
    "    def __init__(self, name):\n",
    "        self.name = name    # instance attribute unique to each instance\n",
    "\n",
    "d = Dog('Fido')\n",
    "e = Dog('Buddy')\n",
    "print(d.kind )              # shared by all dogs\n",
    "print(e.kind)               # shared by all dogs\n",
    "print(d.name)               # unique to d\n",
    "print(e.name)               # unique to e"
   ]
  },
  {
   "cell_type": "code",
   "execution_count": 18,
   "metadata": {
    "slideshow": {
     "slide_type": "subslide"
    }
   },
   "outputs": [
    {
     "data": {
      "text/plain": [
       "['roll over', 'play dead']"
      ]
     },
     "execution_count": 18,
     "metadata": {},
     "output_type": "execute_result"
    }
   ],
   "source": [
    "class Dog:\n",
    "\n",
    "    tricks = []             # bad design - mistaken use of a class attribute\n",
    "\n",
    "    def __init__(self, name):\n",
    "        self.name = name\n",
    "\n",
    "    def add_trick(self, trick):\n",
    "        self.tricks.append(trick)\n",
    "\n",
    "d = Dog('Fido')\n",
    "e = Dog('Buddy')\n",
    "d.add_trick('roll over')\n",
    "e.add_trick('play dead')\n",
    "d.tricks                # unexpectedly shared by all dogs\n",
    "# How to fix this?!"
   ]
  },
  {
   "cell_type": "code",
   "execution_count": 20,
   "metadata": {
    "slideshow": {
     "slide_type": "slide"
    }
   },
   "outputs": [
    {
     "data": {
      "text/plain": [
       "['play dead']"
      ]
     },
     "execution_count": 20,
     "metadata": {},
     "output_type": "execute_result"
    }
   ],
   "source": [
    "class Dog:\n",
    "\n",
    "    def __init__(self, name):\n",
    "        self.name = name\n",
    "        self.tricks = []            # Specific to each instance - NOT shared!\n",
    "\n",
    "    def add_trick(self, trick):\n",
    "        self.tricks.append(trick)\n",
    "\n",
    "d = Dog('Fido')\n",
    "e = Dog('Buddy')\n",
    "d.add_trick('roll over')\n",
    "e.add_trick('play dead')\n",
    "e.tricks                "
   ]
  },
  {
   "cell_type": "markdown",
   "metadata": {
    "slideshow": {
     "slide_type": "slide"
    }
   },
   "source": [
    "<center><h1>Next: Module 2</h1></center>\n",
    "\n",
    "<center><h3>Inheritance in Python</h3></center>"
   ]
  },
  {
   "cell_type": "markdown",
   "metadata": {
    "slideshow": {
     "slide_type": "slide"
    }
   },
   "source": [
    "<h3>References:</h3>\n",
    "\n",
    "- Foundations of Python Programming  by Brad Miller et al. (GNU Free Documentation License)\n",
    "- [Python 3.8 Documentation](https://docs.python.org/3.8/tutorial/)\n",
    "- https://www.programiz.com/python-programming/object-oriented-programming"
   ]
  }
 ],
 "metadata": {
  "celltoolbar": "Slideshow",
  "kernelspec": {
   "display_name": "Python 3",
   "language": "python",
   "name": "python3"
  },
  "language_info": {
   "codemirror_mode": {
    "name": "ipython",
    "version": 3
   },
   "file_extension": ".py",
   "mimetype": "text/x-python",
   "name": "python",
   "nbconvert_exporter": "python",
   "pygments_lexer": "ipython3",
   "version": "3.8.5"
  }
 },
 "nbformat": 4,
 "nbformat_minor": 2
}

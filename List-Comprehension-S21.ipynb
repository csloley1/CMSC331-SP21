{
 "cells": [
  {
   "cell_type": "markdown",
   "metadata": {},
   "source": [
    "# CMSC 331 Spring 2021\n",
    "### Instructor: Fereydoon Vafaei\n",
    "\n",
    "<br>\n",
    "\n",
    "## <font color='blue'>Python Lists, List Comprehension, and Lambda Functions</font>"
   ]
  },
  {
   "cell_type": "markdown",
   "metadata": {},
   "source": [
    "List is one of the most commonly used data structures in Python. In this notebook, we are going to see some practices with lists. Particularly, we're going to use **List Comprehension** which can be used to create powerful functionality within a single line of code.\n",
    "\n",
    "For the discussions in **Functional Programming** with **Scheme/Racket**, it is essential that you review and study all the practices in this notebook especially `lambda` functions as a similar notation is used in **Scheme**."
   ]
  },
  {
   "cell_type": "markdown",
   "metadata": {},
   "source": [
    "### Python List Recap"
   ]
  },
  {
   "cell_type": "markdown",
   "metadata": {},
   "source": [
    "A list stores a series of items in a particular order. You access items using an index, or within a loop."
   ]
  },
  {
   "cell_type": "code",
   "execution_count": 1,
   "metadata": {},
   "outputs": [],
   "source": [
    "# make a list\n",
    "courses = ['cmsc331', 'cmsc441', 'cmsc471']"
   ]
  },
  {
   "cell_type": "code",
   "execution_count": 2,
   "metadata": {},
   "outputs": [
    {
     "data": {
      "text/plain": [
       "'cmsc331'"
      ]
     },
     "execution_count": 2,
     "metadata": {},
     "output_type": "execute_result"
    }
   ],
   "source": [
    "# get the first item in a list\n",
    "courses[0]"
   ]
  },
  {
   "cell_type": "code",
   "execution_count": 4,
   "metadata": {},
   "outputs": [
    {
     "data": {
      "text/plain": [
       "'cmsc471'"
      ]
     },
     "execution_count": 4,
     "metadata": {},
     "output_type": "execute_result"
    }
   ],
   "source": [
    "# get the last item in a list\n",
    "courses[-1]"
   ]
  },
  {
   "cell_type": "code",
   "execution_count": 12,
   "metadata": {},
   "outputs": [
    {
     "data": {
      "text/plain": [
       "'cmsc441'"
      ]
     },
     "execution_count": 12,
     "metadata": {},
     "output_type": "execute_result"
    }
   ],
   "source": [
    "# negative indexing\n",
    "courses[-2]"
   ]
  },
  {
   "cell_type": "code",
   "execution_count": 5,
   "metadata": {},
   "outputs": [
    {
     "name": "stdout",
     "output_type": "stream",
     "text": [
      "cmsc331\n",
      "cmsc441\n",
      "cmsc471\n"
     ]
    }
   ],
   "source": [
    "# Looping through a list\n",
    "for course in courses:\n",
    "    print(course)"
   ]
  },
  {
   "cell_type": "code",
   "execution_count": 16,
   "metadata": {},
   "outputs": [
    {
     "name": "stdout",
     "output_type": "stream",
     "text": [
      "['cmsc331', 'cmsc441', 'cmsc471']\n",
      "['cmsc471']\n"
     ]
    }
   ],
   "source": [
    "# Slicing the lists\n",
    "print(courses[:3])\n",
    "print(courses[2:])"
   ]
  },
  {
   "cell_type": "code",
   "execution_count": 6,
   "metadata": {},
   "outputs": [],
   "source": [
    "# Adding items to a list\n",
    "courses = []\n",
    "courses.append('cmsc331')\n",
    "courses.append('cmsc441')\n",
    "courses.append('cmsc471')"
   ]
  },
  {
   "cell_type": "markdown",
   "metadata": {},
   "source": [
    "> See other list methods [here](https://docs.python.org/3/tutorial/datastructures.html)."
   ]
  },
  {
   "cell_type": "code",
   "execution_count": 7,
   "metadata": {},
   "outputs": [],
   "source": [
    "# Making numerical lists\n",
    "squares = []\n",
    "for x in range(1, 11):\n",
    "    squares.append(x**2)"
   ]
  },
  {
   "cell_type": "code",
   "execution_count": 8,
   "metadata": {},
   "outputs": [
    {
     "data": {
      "text/plain": [
       "[1, 4, 9, 16, 25, 36, 49, 64, 81, 100]"
      ]
     },
     "execution_count": 8,
     "metadata": {},
     "output_type": "execute_result"
    }
   ],
   "source": [
    "squares"
   ]
  },
  {
   "cell_type": "markdown",
   "metadata": {},
   "source": [
    "### List Comprehension"
   ]
  },
  {
   "cell_type": "markdown",
   "metadata": {},
   "source": [
    "List comprehension in Python is also surrounded by brackets, but instead of the list of data inside it, you enter an expression followed by `for` loop and `if-else` clauses.\n",
    "\n",
    "Every list comprehension in Python includes three elements:\n",
    "\n",
    "- **expression** is the member itself, a call to a method, or any other valid expression that returns a value. In the following example, the expression `x**2` is the square of the member value.\n",
    "\n",
    "- **member** is the object or value in the list or iterable. In the following example, the member value is `x`.\n",
    "\n",
    "- **iterable** is a list, set, sequence, generator, or any other object that can return its elements one at a time. In the following example, the iterable is `range(1, 11)`.\n",
    "\n",
    "\n",
    "This is the first simple example in **list comprehension**:"
   ]
  },
  {
   "cell_type": "code",
   "execution_count": 14,
   "metadata": {},
   "outputs": [
    {
     "data": {
      "text/plain": [
       "[1, 4, 9, 16, 25, 36, 49, 64, 81, 100]"
      ]
     },
     "execution_count": 14,
     "metadata": {},
     "output_type": "execute_result"
    }
   ],
   "source": [
    "squares = [x**2 for x in range(1, 11)]\n",
    "squares"
   ]
  },
  {
   "cell_type": "markdown",
   "metadata": {},
   "source": [
    "> You can also use `if` statement in list comprehension to filter certain elements in the list."
   ]
  },
  {
   "cell_type": "code",
   "execution_count": 17,
   "metadata": {},
   "outputs": [
    {
     "data": {
      "text/plain": [
       "[4, 16, 36, 64, 100]"
      ]
     },
     "execution_count": 17,
     "metadata": {},
     "output_type": "execute_result"
    }
   ],
   "source": [
    "even_squares = [x**2 for x in range(1, 11) if x%2 == 0]\n",
    "even_squares"
   ]
  },
  {
   "cell_type": "markdown",
   "metadata": {},
   "source": [
    "### Lambda Functions with `map()`, `filter()` and `reduce()`"
   ]
  },
  {
   "cell_type": "markdown",
   "metadata": {},
   "source": [
    "An alternative to list comprehension is a **Lambda function** which is also called **anonymous function** or \"function without a name\". That means that you only use these types of functions when they are created. Lambda functions borrow their name from the `lambda` keyword in Python, which is used to declare these functions instead of the standard `def` keyword.\n",
    "\n",
    "A similar notation to `lambda` is used in functional programming with **Scheme** so it is of utmost importance that you practice with `lambda` functions in Python.\n",
    "\n",
    "In Python, you usually use these functions together with the `map()`, `filter()`, and `reduce()` functions.\n",
    "\n",
    "See the examples in the following cells."
   ]
  },
  {
   "cell_type": "code",
   "execution_count": 1,
   "metadata": {},
   "outputs": [
    {
     "name": "stdout",
     "output_type": "stream",
     "text": [
      "[128608.92408000001, 119750.65635, 122375.32826999998, 124015.74822]\n"
     ]
    }
   ],
   "source": [
    "# Initialize the `kilometer` list\n",
    "kilometer = [39.2, 36.5, 37.3, 37.8]\n",
    "\n",
    "# Construct `feet` with `map()`\n",
    "feet = map(lambda x: float(3280.8399)*x, kilometer)\n",
    "\n",
    "# Print `feet` as a list\n",
    "print(list(feet))"
   ]
  },
  {
   "cell_type": "markdown",
   "metadata": {},
   "source": [
    "> Now, you can easily replace this combination of functions that define the `feet` variable with list comprehensions as follows. Compare the two methods of list comprehension and `lambda` function."
   ]
  },
  {
   "cell_type": "code",
   "execution_count": 2,
   "metadata": {},
   "outputs": [
    {
     "name": "stdout",
     "output_type": "stream",
     "text": [
      "[128608.92408000001, 119750.65635, 122375.32826999998, 124015.74822]\n"
     ]
    }
   ],
   "source": [
    "# Convert `kilometer` to `feet`\n",
    "feet = [float(3280.8399)*x for x in kilometer]\n",
    "\n",
    "# Print `feet`\n",
    "print(feet)"
   ]
  },
  {
   "cell_type": "markdown",
   "metadata": {},
   "source": [
    "> In the following example, you will use `filter()` function with `lambda` to filter out even numbers and only keep the odd numbers which are not divisible by 2:"
   ]
  },
  {
   "cell_type": "code",
   "execution_count": 4,
   "metadata": {},
   "outputs": [
    {
     "name": "stdout",
     "output_type": "stream",
     "text": [
      "<class 'filter'>\n",
      "[122375, 124015]\n"
     ]
    }
   ],
   "source": [
    "# Map the values of `feet` to integers\n",
    "feet = list(map(int, feet))\n",
    "\n",
    "# Filter `feet` to only include uneven distances\n",
    "uneven = filter(lambda x: x%2, feet)\n",
    "\n",
    "# Check the type of `uneven`\n",
    "print(type(uneven))\n",
    "\n",
    "# Print `uneven` as a list\n",
    "print(list(uneven))"
   ]
  },
  {
   "cell_type": "markdown",
   "metadata": {},
   "source": [
    "> Again, you can rewrite the `filter()` function using two list comprehensions as follows:\n",
    "\n",
    "    - One list comprehension to convert the values of feet to integers;\n",
    "\n",
    "    - Second list comprehension to filter out even values from the feet list.\n"
   ]
  },
  {
   "cell_type": "code",
   "execution_count": 5,
   "metadata": {},
   "outputs": [
    {
     "name": "stdout",
     "output_type": "stream",
     "text": [
      "[128608, 119750, 122375, 124015]\n",
      "[122375, 124015]\n"
     ]
    }
   ],
   "source": [
    "# Constructing `feet`\n",
    "feet = [int(x) for x in feet]\n",
    "\n",
    "# Print `feet`\n",
    "print(feet)\n",
    "\n",
    "# Get all uneven distances\n",
    "uneven = [x for x in feet if x%2!= 0]\n",
    "\n",
    "# Print `uneven`\n",
    "print(uneven)"
   ]
  },
  {
   "cell_type": "markdown",
   "metadata": {},
   "source": [
    "> Finally, you will see an example that uses `reduce()` function. Python’s `reduce()` is a function that implements a mathematical technique called **folding** or **reduction**. `reduce()` is useful when you need to apply a function to an iterable and reduce it to a single cumulative value. Python’s `reduce()` is popular among developers with a **functional programming** background.\n",
    "\n",
    "> You can also rewrite `lambda` functions that are used with the `reduce()` function to more compact lines of code. First see the following example that uses `reduce()` function:"
   ]
  },
  {
   "cell_type": "code",
   "execution_count": 12,
   "metadata": {},
   "outputs": [
    {
     "name": "stdout",
     "output_type": "stream",
     "text": [
      "494748\n"
     ]
    }
   ],
   "source": [
    "# Import `reduce` from `functools`\n",
    "from functools import reduce\n",
    "\n",
    "# Reduce `feet` to `reduced_feet`\n",
    "reduced_feet = reduce(lambda x,y: x+y, feet)\n",
    "\n",
    "# Print `reduced_feet`\n",
    "print(reduced_feet)"
   ]
  },
  {
   "cell_type": "markdown",
   "metadata": {},
   "source": [
    "> And now generating the same result using list comprehension; notice how `sum()` is used:"
   ]
  },
  {
   "cell_type": "code",
   "execution_count": 7,
   "metadata": {},
   "outputs": [
    {
     "name": "stdout",
     "output_type": "stream",
     "text": [
      "494748\n"
     ]
    }
   ],
   "source": [
    "# Construct `reduced_feet`\n",
    "reduced_feet = sum([x for x in feet])\n",
    "\n",
    "# Print `reduced_feet`\n",
    "print(reduced_feet)"
   ]
  },
  {
   "cell_type": "markdown",
   "metadata": {},
   "source": [
    "> And you can even use `sum()` alone in this case. Functions like `sum()` are called **aggregating functions**:"
   ]
  },
  {
   "cell_type": "code",
   "execution_count": 8,
   "metadata": {},
   "outputs": [
    {
     "data": {
      "text/plain": [
       "494748"
      ]
     },
     "execution_count": 8,
     "metadata": {},
     "output_type": "execute_result"
    }
   ],
   "source": [
    "sum(feet)"
   ]
  },
  {
   "cell_type": "markdown",
   "metadata": {},
   "source": [
    "### Using Multiple Conditionals in List Comprehension"
   ]
  },
  {
   "cell_type": "markdown",
   "metadata": {},
   "source": [
    "See the following nested conditional example, and how you can replace it with a list comprehension:"
   ]
  },
  {
   "cell_type": "code",
   "execution_count": 14,
   "metadata": {},
   "outputs": [
    {
     "name": "stdout",
     "output_type": "stream",
     "text": [
      "[0, 6, 12, 18, 24, 30, 36, 42, 48, 54, 60, 66, 72, 78, 84, 90, 96]\n"
     ]
    }
   ],
   "source": [
    "divided = []\n",
    "\n",
    "for x in range(100):\n",
    "    if x%2 == 0 :\n",
    "        if x%6 == 0:\n",
    "            divided.append(x)\n",
    "            \n",
    "print(divided)"
   ]
  },
  {
   "cell_type": "markdown",
   "metadata": {},
   "source": [
    "> All you need to do is just placing two `if` following each other like the following:"
   ]
  },
  {
   "cell_type": "code",
   "execution_count": 15,
   "metadata": {},
   "outputs": [
    {
     "name": "stdout",
     "output_type": "stream",
     "text": [
      "[0, 6, 12, 18, 24, 30, 36, 42, 48, 54, 60, 66, 72, 78, 84, 90, 96]\n"
     ]
    }
   ],
   "source": [
    "divided = [x for x in range(100) if x % 2 == 0 if x % 6 == 0]\n",
    "\n",
    "print(divided)"
   ]
  },
  {
   "cell_type": "markdown",
   "metadata": {},
   "source": [
    "> You can also use `if-else` statements like the following:"
   ]
  },
  {
   "cell_type": "code",
   "execution_count": 25,
   "metadata": {},
   "outputs": [
    {
     "name": "stdout",
     "output_type": "stream",
     "text": [
      "[0, 1, 2, 3, 4, 5, 6, 7, 8, 9]\n"
     ]
    },
    {
     "data": {
      "text/plain": [
       "[1, 6, 3, 8, 5, 10, 7, 12, 9, 14]"
      ]
     },
     "execution_count": 25,
     "metadata": {},
     "output_type": "execute_result"
    }
   ],
   "source": [
    "lst = list(range(10))\n",
    "print(lst)\n",
    "\n",
    "[x+1 if x%2 == 0 else x+5 for x in lst]"
   ]
  },
  {
   "cell_type": "markdown",
   "metadata": {},
   "source": [
    "### Nested List Comprehension"
   ]
  },
  {
   "cell_type": "markdown",
   "metadata": {},
   "source": [
    "You can use **nested list comprehension** when you want to work with lists of lists, generating lists of lists, transposing lists of lists, or flattening lists of lists to regular lists.\n",
    "\n",
    "See the following example for flattening a nested list using list comprehension."
   ]
  },
  {
   "cell_type": "code",
   "execution_count": 23,
   "metadata": {},
   "outputs": [
    {
     "data": {
      "text/plain": [
       "[1, 2, 3, 4, 5, 6, 7, 8]"
      ]
     },
     "execution_count": 23,
     "metadata": {},
     "output_type": "execute_result"
    }
   ],
   "source": [
    "list_of_list = [[1,2,3],[4,5,6],[7,8]]\n",
    "\n",
    "# Flatten `list_of_list`\n",
    "[y for x in list_of_list for y in x]"
   ]
  },
  {
   "cell_type": "markdown",
   "metadata": {},
   "source": [
    "**NOTE**: As always, practice what you learned in this notebook with other lists generated on your own."
   ]
  },
  {
   "cell_type": "markdown",
   "metadata": {},
   "source": [
    "### References\n",
    "\n",
    "[1] https://docs.python.org/3/tutorial/datastructures.html\n",
    "\n",
    "[2] https://www.datacamp.com/community/tutorials/python-list-comprehension\n",
    "\n",
    "[3] https://realpython.com/list-comprehension-python/"
   ]
  }
 ],
 "metadata": {
  "kernelspec": {
   "display_name": "Python 3",
   "language": "python",
   "name": "python3"
  },
  "language_info": {
   "codemirror_mode": {
    "name": "ipython",
    "version": 3
   },
   "file_extension": ".py",
   "mimetype": "text/x-python",
   "name": "python",
   "nbconvert_exporter": "python",
   "pygments_lexer": "ipython3",
   "version": "3.8.5"
  }
 },
 "nbformat": 4,
 "nbformat_minor": 4
}
